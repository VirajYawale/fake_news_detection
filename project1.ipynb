{
  "cells": [
    {
      "cell_type": "code",
      "execution_count": null,
      "metadata": {
        "id": "pJNQbxfkpdAD"
      },
      "outputs": [],
      "source": [
        "# before this i approched with dataset and then with api\n",
        "# now, here we filter the data process the data using NLP and predict the pattern and according to that we made this model..."
      ]
    },
    {
      "cell_type": "code",
      "execution_count": null,
      "metadata": {
        "colab": {
          "base_uri": "https://localhost:8080/"
        },
        "id": "4_h3D-azp1AT",
        "outputId": "ddee82dc-b523-4c34-a7b2-7a2bdbd8f6d6"
      },
      "outputs": [
        {
          "name": "stdout",
          "output_type": "stream",
          "text": [
            "Mounted at /content/drive\n"
          ]
        }
      ],
      "source": [
        "from google.colab import drive\n",
        "drive.mount('/content/drive')"
      ]
    },
    {
      "cell_type": "code",
      "execution_count": null,
      "metadata": {
        "id": "aPxDXucep2P7"
      },
      "outputs": [],
      "source": [
        "import numpy as np\n",
        "import pandas as pd\n",
        "import matplotlib.pyplot as plt\n",
        "import seaborn as sns\n",
        "import nltk\n",
        "import re\n",
        "from wordcloud import WordCloud"
      ]
    },
    {
      "cell_type": "code",
      "execution_count": null,
      "metadata": {
        "colab": {
          "base_uri": "https://localhost:8080/"
        },
        "id": "YPWuioa68Xxd",
        "outputId": "ee5ec297-65cb-4ca8-ef51-c5e27a652127"
      },
      "outputs": [
        {
          "name": "stdout",
          "output_type": "stream",
          "text": [
            "NumPy version: 2.0.2\n"
          ]
        }
      ],
      "source": [
        "import numpy as np\n",
        "print(\"NumPy version:\", np.__version__)\n"
      ]
    },
    {
      "cell_type": "code",
      "execution_count": null,
      "metadata": {
        "id": "1RLaBYBBqUa0"
      },
      "outputs": [],
      "source": [
        "from tensorflow.keras.preprocessing.text import Tokenizer\n",
        "from tensorflow.keras.preprocessing.sequence import pad_sequences\n",
        "\n",
        "from tensorflow.keras.models import Sequential\n",
        "from tensorflow.keras.layers import Dense, Embedding, LSTM, Conv1D, MaxPool1D\n",
        "from sklearn.model_selection import train_test_split\n",
        "from sklearn.metrics import classification_report, accuracy_score"
      ]
    },
    {
      "cell_type": "markdown",
      "metadata": {
        "id": "M3IuLvOyxoUe"
      },
      "source": [
        "### Fake news"
      ]
    },
    {
      "cell_type": "code",
      "execution_count": null,
      "metadata": {
        "id": "eTK8QFkAq1MN"
      },
      "outputs": [],
      "source": [
        "fake = pd.read_csv('/content/drive/MyDrive/fake_news_detection/Fake.csv')"
      ]
    },
    {
      "cell_type": "code",
      "execution_count": null,
      "metadata": {
        "colab": {
          "base_uri": "https://localhost:8080/",
          "height": 206
        },
        "id": "H34ZLBdpsK5Y",
        "outputId": "fdad055c-8ded-4546-e9b8-8b6c0989f5a0"
      },
      "outputs": [
        {
          "data": {
            "application/vnd.google.colaboratory.intrinsic+json": {
              "summary": "{\n  \"name\": \"fake\",\n  \"rows\": 23481,\n  \"fields\": [\n    {\n      \"column\": \"title\",\n      \"properties\": {\n        \"dtype\": \"string\",\n        \"num_unique_values\": 17903,\n        \"samples\": [\n          \" Fox News Mocked Into Oblivion After This F*cking STUPID Attempt To Make Steve Bannon Look Sane (TWEETS)\",\n          \"BREAKING: FL GOV RICK SCOTT Calls for FBI Director to Resign\",\n          \" WATCH: Mike Pence\\u2019s Photo Op With Puerto Rico Survivors Just Went TERRIBLY Wrong (VIDEO)\"\n        ],\n        \"semantic_type\": \"\",\n        \"description\": \"\"\n      }\n    },\n    {\n      \"column\": \"text\",\n      \"properties\": {\n        \"dtype\": \"string\",\n        \"num_unique_values\": 17455,\n        \"samples\": [\n          \"The moral decay continues The Kapiolani Medical Center for Women and Children at the University of Hawaii is currently recruiting pregnant girls and women to participate in second-trimester abortions to measure their bleeding during the operation, with and without antihemorrhagic drugs. According to the Clinical Trials website, run by the National Institutes of Health, participants must be at least 14 years old and 18-24 weeks pregnant.The controversial study, led by Bliss Kaneshiro, MD and Kate Whitehouse, DO, will monitor bleeding during D&E abortions to determine the effects of the drug oxytocin, commonly used to minimize blood loss and decrease the risk of hemorrhage.The clinical trial, called  Effects of Oxytocin on Bleeding Outcomes during Dilation and Evacuation  began in October 2014 and is a collaboration between UH, Society of Family Planning and the University of Washington.The Society of Family Planning funds a number of similar research projects, such as experimenting with the dosage of Misoprostol, a uterine contracting agent, prior to surgical abortions at 13-18 weeks and exploring umbilical cord injections to produce fetal death prior to late-term abortions.In the UH study, researchers will carry out a  randomized, double-blinded, placebo-controlled trials,  to determine the effect of oxytocin s use on uterine bleeding, meaning that they will either provide or deny intravenous oxytocin to the women.Reports suggest that some doctors are concerned that withholding oxytocin during surgery may put patients, especially teen girls, at risk. This study is reminiscent of Nazi concentration camp experiments. I pity the poor women who are being treated like lab rats, especially those who are denied the drug to reduce hemorrhaging,  said Troy Newman, President of Operation Rescue.Dilation and evacuation abortions are surgical procedures that involve dismembering the pre-born baby with forceps, scraping the inside of the uterus with a curette to remove any residuals and finally suctioning out the womb to make sure the contents are completely removed.After the abortion, the corpse of the fetus is reassembled and examined to ensure everything was successfully removed and that the abortion was complete.The study is hoping to attract up to 166 test subjects and is expected to conclude in July 2015.Via: Breitbart News\",\n          \"CNN was quick to scoop up Corey Lewandowski after Donald Trump kicked him out of his role as campaign manager, but his first week on the job is going pretty much exactly how you would expect it to go   terribly.Not only has Lewandowski proven himself to be pretty much like a paid spokesman for Trump, but his defense of the disgraced GOP candidate isn t being received well. Earlier this week, Lewandowski revealed that he was under contract and couldn t criticize The Donald, even after being fired from the campaign. Today, Lewandowski got called out by Hillary Clinton surrogate Christine Quinn for hyping Trump up to be an expert on the Brexit decision   a suggestion that was clearly false.On Monday s edition of CNN s New Day, Lewandowski made another pathetic defense of Trump by trying to reframe the candidate s disgusting reaction to Brexit, where he mostly spoke about how much the decision would be good for his Scotland golf resort. Lewandowski s defense was: Obviously the U.S. dollar has become much stronger now against the British pound. If you re going to spend money in Europe, now would actually be a good time to go with the fall of the pound.What you have is a world view, so what you have is someone who is saying,  Let s look at this from the U.S. perspective. If you want to go and travel overseas   just from a monetary perspective   now is the right time to do that because what you re getting is more for your dollar. Quinn wasn t having it. She ripped into Lewandowski, firing back, Donald Trump is not running to be travel agent of the world, he s running to be president of the United States.  She continued: What he said wasn t a commentary on international markets, it was,  When the pound goes down, more people will come to my golf course. Donald Trump s main concern isn t the international markets, it isn t the impact that Brexit will have on hard working Americans  401Ks, it s himself. How can he make more money, how can he put more money in his bank account? Lewandowski compared the Brexit decision to Trump s rise in the GOP, and Quinn once again called him out and put him back in his place. She said: Trump touted that he saw this coming. That s ridiculous because when he was first asked about Brexit by the press, he didn t appear to know what it was. Lewandowski tried to counter by insisting that People are too smart, they are tired of being told what to do.  He then tried to commend Trump for being a selfish moron: You know what Donald Trump said about Brexit? What he said was, you don t have to listen to me because it s not my decision. He didn t weigh in like Hillary Clinton did, like Barack Obama did, saying that you can t do this. Quinn fought back, Because he didn t know what it was. Lewandowski was fighting a losing battle. Trump s reaction to Brexit was just as terrifying as it was humorous   it truly proved that Trump knows nothing about foreign affairs, and hasn t spent any time educating himself since the beginning of his presidential candidacy. If only some of the hours he spent getting into fights on Twitter were being used for learning about how the world works. But instead, he once again exposed himself as an unfit choice for President. And when people like Lewandowski try to make sense of his idiocy, they only make themselves look equally foolish.You can watch the embarrassing video below:Featured image via screen capture\",\n          \"A Michigan woman decided to defend against tyranny? when she and another shopper couldn t agree over who got to buy the last notebook on the shelf at the Novi Towne Center store.According to ABC 13, the brawl   yes, brawl    involved two Farmington Hills residents, ages 46 and 32, and a mother and daughter from South Lyon, ages 51 and 20. In other words, these were all grown adults who should have known better but hey   there was only one notebook on the shelf, and we ve all seen what happens in those post-apocalyptic movies when a store is down to the last gallon of milk, right?Two of the women, one of whom was the unnamed 20-year-old, reached for the notebook at the same time. The 46 and 32-year-olds apparently decided that she wasn t getting their goddamn notebook and began pulling her hair.Then, because this had almost hit peak  trailer park,  the 20-year-old s mother decided to go for bonus points by pulling out her gun. Fortunately, someone pushed her aside before she could do any harm.This is one of the NRA s  responsible gun owners  (conservatives can t dismiss this one, as it is confirmed that she is a concealed carry permit holder)   ready to leap into action at the most minor sign of danger and make things worse by turning the situation potentially deadly.Watch it happen below:Featured image via screengrab\"\n        ],\n        \"semantic_type\": \"\",\n        \"description\": \"\"\n      }\n    },\n    {\n      \"column\": \"subject\",\n      \"properties\": {\n        \"dtype\": \"category\",\n        \"num_unique_values\": 6,\n        \"samples\": [\n          \"News\",\n          \"politics\",\n          \"Middle-east\"\n        ],\n        \"semantic_type\": \"\",\n        \"description\": \"\"\n      }\n    },\n    {\n      \"column\": \"date\",\n      \"properties\": {\n        \"dtype\": \"category\",\n        \"num_unique_values\": 1681,\n        \"samples\": [\n          \"Jun 5, 2015\",\n          \"August 28, 2016\",\n          \"June 3, 2017\"\n        ],\n        \"semantic_type\": \"\",\n        \"description\": \"\"\n      }\n    }\n  ]\n}",
              "type": "dataframe",
              "variable_name": "fake"
            },
            "text/html": [
              "\n",
              "  <div id=\"df-e7dc6210-745e-4a44-b597-b0c5c823b680\" class=\"colab-df-container\">\n",
              "    <div>\n",
              "<style scoped>\n",
              "    .dataframe tbody tr th:only-of-type {\n",
              "        vertical-align: middle;\n",
              "    }\n",
              "\n",
              "    .dataframe tbody tr th {\n",
              "        vertical-align: top;\n",
              "    }\n",
              "\n",
              "    .dataframe thead th {\n",
              "        text-align: right;\n",
              "    }\n",
              "</style>\n",
              "<table border=\"1\" class=\"dataframe\">\n",
              "  <thead>\n",
              "    <tr style=\"text-align: right;\">\n",
              "      <th></th>\n",
              "      <th>title</th>\n",
              "      <th>text</th>\n",
              "      <th>subject</th>\n",
              "      <th>date</th>\n",
              "    </tr>\n",
              "  </thead>\n",
              "  <tbody>\n",
              "    <tr>\n",
              "      <th>0</th>\n",
              "      <td>Donald Trump Sends Out Embarrassing New Year’...</td>\n",
              "      <td>Donald Trump just couldn t wish all Americans ...</td>\n",
              "      <td>News</td>\n",
              "      <td>December 31, 2017</td>\n",
              "    </tr>\n",
              "    <tr>\n",
              "      <th>1</th>\n",
              "      <td>Drunk Bragging Trump Staffer Started Russian ...</td>\n",
              "      <td>House Intelligence Committee Chairman Devin Nu...</td>\n",
              "      <td>News</td>\n",
              "      <td>December 31, 2017</td>\n",
              "    </tr>\n",
              "    <tr>\n",
              "      <th>2</th>\n",
              "      <td>Sheriff David Clarke Becomes An Internet Joke...</td>\n",
              "      <td>On Friday, it was revealed that former Milwauk...</td>\n",
              "      <td>News</td>\n",
              "      <td>December 30, 2017</td>\n",
              "    </tr>\n",
              "    <tr>\n",
              "      <th>3</th>\n",
              "      <td>Trump Is So Obsessed He Even Has Obama’s Name...</td>\n",
              "      <td>On Christmas day, Donald Trump announced that ...</td>\n",
              "      <td>News</td>\n",
              "      <td>December 29, 2017</td>\n",
              "    </tr>\n",
              "    <tr>\n",
              "      <th>4</th>\n",
              "      <td>Pope Francis Just Called Out Donald Trump Dur...</td>\n",
              "      <td>Pope Francis used his annual Christmas Day mes...</td>\n",
              "      <td>News</td>\n",
              "      <td>December 25, 2017</td>\n",
              "    </tr>\n",
              "  </tbody>\n",
              "</table>\n",
              "</div>\n",
              "    <div class=\"colab-df-buttons\">\n",
              "\n",
              "  <div class=\"colab-df-container\">\n",
              "    <button class=\"colab-df-convert\" onclick=\"convertToInteractive('df-e7dc6210-745e-4a44-b597-b0c5c823b680')\"\n",
              "            title=\"Convert this dataframe to an interactive table.\"\n",
              "            style=\"display:none;\">\n",
              "\n",
              "  <svg xmlns=\"http://www.w3.org/2000/svg\" height=\"24px\" viewBox=\"0 -960 960 960\">\n",
              "    <path d=\"M120-120v-720h720v720H120Zm60-500h600v-160H180v160Zm220 220h160v-160H400v160Zm0 220h160v-160H400v160ZM180-400h160v-160H180v160Zm440 0h160v-160H620v160ZM180-180h160v-160H180v160Zm440 0h160v-160H620v160Z\"/>\n",
              "  </svg>\n",
              "    </button>\n",
              "\n",
              "  <style>\n",
              "    .colab-df-container {\n",
              "      display:flex;\n",
              "      gap: 12px;\n",
              "    }\n",
              "\n",
              "    .colab-df-convert {\n",
              "      background-color: #E8F0FE;\n",
              "      border: none;\n",
              "      border-radius: 50%;\n",
              "      cursor: pointer;\n",
              "      display: none;\n",
              "      fill: #1967D2;\n",
              "      height: 32px;\n",
              "      padding: 0 0 0 0;\n",
              "      width: 32px;\n",
              "    }\n",
              "\n",
              "    .colab-df-convert:hover {\n",
              "      background-color: #E2EBFA;\n",
              "      box-shadow: 0px 1px 2px rgba(60, 64, 67, 0.3), 0px 1px 3px 1px rgba(60, 64, 67, 0.15);\n",
              "      fill: #174EA6;\n",
              "    }\n",
              "\n",
              "    .colab-df-buttons div {\n",
              "      margin-bottom: 4px;\n",
              "    }\n",
              "\n",
              "    [theme=dark] .colab-df-convert {\n",
              "      background-color: #3B4455;\n",
              "      fill: #D2E3FC;\n",
              "    }\n",
              "\n",
              "    [theme=dark] .colab-df-convert:hover {\n",
              "      background-color: #434B5C;\n",
              "      box-shadow: 0px 1px 3px 1px rgba(0, 0, 0, 0.15);\n",
              "      filter: drop-shadow(0px 1px 2px rgba(0, 0, 0, 0.3));\n",
              "      fill: #FFFFFF;\n",
              "    }\n",
              "  </style>\n",
              "\n",
              "    <script>\n",
              "      const buttonEl =\n",
              "        document.querySelector('#df-e7dc6210-745e-4a44-b597-b0c5c823b680 button.colab-df-convert');\n",
              "      buttonEl.style.display =\n",
              "        google.colab.kernel.accessAllowed ? 'block' : 'none';\n",
              "\n",
              "      async function convertToInteractive(key) {\n",
              "        const element = document.querySelector('#df-e7dc6210-745e-4a44-b597-b0c5c823b680');\n",
              "        const dataTable =\n",
              "          await google.colab.kernel.invokeFunction('convertToInteractive',\n",
              "                                                    [key], {});\n",
              "        if (!dataTable) return;\n",
              "\n",
              "        const docLinkHtml = 'Like what you see? Visit the ' +\n",
              "          '<a target=\"_blank\" href=https://colab.research.google.com/notebooks/data_table.ipynb>data table notebook</a>'\n",
              "          + ' to learn more about interactive tables.';\n",
              "        element.innerHTML = '';\n",
              "        dataTable['output_type'] = 'display_data';\n",
              "        await google.colab.output.renderOutput(dataTable, element);\n",
              "        const docLink = document.createElement('div');\n",
              "        docLink.innerHTML = docLinkHtml;\n",
              "        element.appendChild(docLink);\n",
              "      }\n",
              "    </script>\n",
              "  </div>\n",
              "\n",
              "\n",
              "<div id=\"df-5efe3356-1bac-486a-a260-0cab9c221dfa\">\n",
              "  <button class=\"colab-df-quickchart\" onclick=\"quickchart('df-5efe3356-1bac-486a-a260-0cab9c221dfa')\"\n",
              "            title=\"Suggest charts\"\n",
              "            style=\"display:none;\">\n",
              "\n",
              "<svg xmlns=\"http://www.w3.org/2000/svg\" height=\"24px\"viewBox=\"0 0 24 24\"\n",
              "     width=\"24px\">\n",
              "    <g>\n",
              "        <path d=\"M19 3H5c-1.1 0-2 .9-2 2v14c0 1.1.9 2 2 2h14c1.1 0 2-.9 2-2V5c0-1.1-.9-2-2-2zM9 17H7v-7h2v7zm4 0h-2V7h2v10zm4 0h-2v-4h2v4z\"/>\n",
              "    </g>\n",
              "</svg>\n",
              "  </button>\n",
              "\n",
              "<style>\n",
              "  .colab-df-quickchart {\n",
              "      --bg-color: #E8F0FE;\n",
              "      --fill-color: #1967D2;\n",
              "      --hover-bg-color: #E2EBFA;\n",
              "      --hover-fill-color: #174EA6;\n",
              "      --disabled-fill-color: #AAA;\n",
              "      --disabled-bg-color: #DDD;\n",
              "  }\n",
              "\n",
              "  [theme=dark] .colab-df-quickchart {\n",
              "      --bg-color: #3B4455;\n",
              "      --fill-color: #D2E3FC;\n",
              "      --hover-bg-color: #434B5C;\n",
              "      --hover-fill-color: #FFFFFF;\n",
              "      --disabled-bg-color: #3B4455;\n",
              "      --disabled-fill-color: #666;\n",
              "  }\n",
              "\n",
              "  .colab-df-quickchart {\n",
              "    background-color: var(--bg-color);\n",
              "    border: none;\n",
              "    border-radius: 50%;\n",
              "    cursor: pointer;\n",
              "    display: none;\n",
              "    fill: var(--fill-color);\n",
              "    height: 32px;\n",
              "    padding: 0;\n",
              "    width: 32px;\n",
              "  }\n",
              "\n",
              "  .colab-df-quickchart:hover {\n",
              "    background-color: var(--hover-bg-color);\n",
              "    box-shadow: 0 1px 2px rgba(60, 64, 67, 0.3), 0 1px 3px 1px rgba(60, 64, 67, 0.15);\n",
              "    fill: var(--button-hover-fill-color);\n",
              "  }\n",
              "\n",
              "  .colab-df-quickchart-complete:disabled,\n",
              "  .colab-df-quickchart-complete:disabled:hover {\n",
              "    background-color: var(--disabled-bg-color);\n",
              "    fill: var(--disabled-fill-color);\n",
              "    box-shadow: none;\n",
              "  }\n",
              "\n",
              "  .colab-df-spinner {\n",
              "    border: 2px solid var(--fill-color);\n",
              "    border-color: transparent;\n",
              "    border-bottom-color: var(--fill-color);\n",
              "    animation:\n",
              "      spin 1s steps(1) infinite;\n",
              "  }\n",
              "\n",
              "  @keyframes spin {\n",
              "    0% {\n",
              "      border-color: transparent;\n",
              "      border-bottom-color: var(--fill-color);\n",
              "      border-left-color: var(--fill-color);\n",
              "    }\n",
              "    20% {\n",
              "      border-color: transparent;\n",
              "      border-left-color: var(--fill-color);\n",
              "      border-top-color: var(--fill-color);\n",
              "    }\n",
              "    30% {\n",
              "      border-color: transparent;\n",
              "      border-left-color: var(--fill-color);\n",
              "      border-top-color: var(--fill-color);\n",
              "      border-right-color: var(--fill-color);\n",
              "    }\n",
              "    40% {\n",
              "      border-color: transparent;\n",
              "      border-right-color: var(--fill-color);\n",
              "      border-top-color: var(--fill-color);\n",
              "    }\n",
              "    60% {\n",
              "      border-color: transparent;\n",
              "      border-right-color: var(--fill-color);\n",
              "    }\n",
              "    80% {\n",
              "      border-color: transparent;\n",
              "      border-right-color: var(--fill-color);\n",
              "      border-bottom-color: var(--fill-color);\n",
              "    }\n",
              "    90% {\n",
              "      border-color: transparent;\n",
              "      border-bottom-color: var(--fill-color);\n",
              "    }\n",
              "  }\n",
              "</style>\n",
              "\n",
              "  <script>\n",
              "    async function quickchart(key) {\n",
              "      const quickchartButtonEl =\n",
              "        document.querySelector('#' + key + ' button');\n",
              "      quickchartButtonEl.disabled = true;  // To prevent multiple clicks.\n",
              "      quickchartButtonEl.classList.add('colab-df-spinner');\n",
              "      try {\n",
              "        const charts = await google.colab.kernel.invokeFunction(\n",
              "            'suggestCharts', [key], {});\n",
              "      } catch (error) {\n",
              "        console.error('Error during call to suggestCharts:', error);\n",
              "      }\n",
              "      quickchartButtonEl.classList.remove('colab-df-spinner');\n",
              "      quickchartButtonEl.classList.add('colab-df-quickchart-complete');\n",
              "    }\n",
              "    (() => {\n",
              "      let quickchartButtonEl =\n",
              "        document.querySelector('#df-5efe3356-1bac-486a-a260-0cab9c221dfa button');\n",
              "      quickchartButtonEl.style.display =\n",
              "        google.colab.kernel.accessAllowed ? 'block' : 'none';\n",
              "    })();\n",
              "  </script>\n",
              "</div>\n",
              "\n",
              "    </div>\n",
              "  </div>\n"
            ],
            "text/plain": [
              "                                               title  \\\n",
              "0   Donald Trump Sends Out Embarrassing New Year’...   \n",
              "1   Drunk Bragging Trump Staffer Started Russian ...   \n",
              "2   Sheriff David Clarke Becomes An Internet Joke...   \n",
              "3   Trump Is So Obsessed He Even Has Obama’s Name...   \n",
              "4   Pope Francis Just Called Out Donald Trump Dur...   \n",
              "\n",
              "                                                text subject  \\\n",
              "0  Donald Trump just couldn t wish all Americans ...    News   \n",
              "1  House Intelligence Committee Chairman Devin Nu...    News   \n",
              "2  On Friday, it was revealed that former Milwauk...    News   \n",
              "3  On Christmas day, Donald Trump announced that ...    News   \n",
              "4  Pope Francis used his annual Christmas Day mes...    News   \n",
              "\n",
              "                date  \n",
              "0  December 31, 2017  \n",
              "1  December 31, 2017  \n",
              "2  December 30, 2017  \n",
              "3  December 29, 2017  \n",
              "4  December 25, 2017  "
            ]
          },
          "execution_count": 6,
          "metadata": {},
          "output_type": "execute_result"
        }
      ],
      "source": [
        "fake.head()"
      ]
    },
    {
      "cell_type": "code",
      "execution_count": null,
      "metadata": {
        "colab": {
          "base_uri": "https://localhost:8080/"
        },
        "id": "PABWkLBssSMT",
        "outputId": "c8a2f84b-99e3-4cef-ab47-17ec28be283d"
      },
      "outputs": [
        {
          "data": {
            "text/plain": [
              "Index(['title', 'text', 'subject', 'date'], dtype='object')"
            ]
          },
          "execution_count": 7,
          "metadata": {},
          "output_type": "execute_result"
        }
      ],
      "source": [
        "fake.columns"
      ]
    },
    {
      "cell_type": "code",
      "execution_count": null,
      "metadata": {
        "colab": {
          "base_uri": "https://localhost:8080/",
          "height": 304
        },
        "id": "isPEYt4GsXMF",
        "outputId": "0a8a1be6-5b4d-40b1-e49f-19ca01f84d18"
      },
      "outputs": [
        {
          "data": {
            "text/html": [
              "<div>\n",
              "<style scoped>\n",
              "    .dataframe tbody tr th:only-of-type {\n",
              "        vertical-align: middle;\n",
              "    }\n",
              "\n",
              "    .dataframe tbody tr th {\n",
              "        vertical-align: top;\n",
              "    }\n",
              "\n",
              "    .dataframe thead th {\n",
              "        text-align: right;\n",
              "    }\n",
              "</style>\n",
              "<table border=\"1\" class=\"dataframe\">\n",
              "  <thead>\n",
              "    <tr style=\"text-align: right;\">\n",
              "      <th></th>\n",
              "      <th>count</th>\n",
              "    </tr>\n",
              "    <tr>\n",
              "      <th>subject</th>\n",
              "      <th></th>\n",
              "    </tr>\n",
              "  </thead>\n",
              "  <tbody>\n",
              "    <tr>\n",
              "      <th>News</th>\n",
              "      <td>9050</td>\n",
              "    </tr>\n",
              "    <tr>\n",
              "      <th>politics</th>\n",
              "      <td>6841</td>\n",
              "    </tr>\n",
              "    <tr>\n",
              "      <th>left-news</th>\n",
              "      <td>4459</td>\n",
              "    </tr>\n",
              "    <tr>\n",
              "      <th>Government News</th>\n",
              "      <td>1570</td>\n",
              "    </tr>\n",
              "    <tr>\n",
              "      <th>US_News</th>\n",
              "      <td>783</td>\n",
              "    </tr>\n",
              "    <tr>\n",
              "      <th>Middle-east</th>\n",
              "      <td>778</td>\n",
              "    </tr>\n",
              "  </tbody>\n",
              "</table>\n",
              "</div><br><label><b>dtype:</b> int64</label>"
            ],
            "text/plain": [
              "subject\n",
              "News               9050\n",
              "politics           6841\n",
              "left-news          4459\n",
              "Government News    1570\n",
              "US_News             783\n",
              "Middle-east         778\n",
              "Name: count, dtype: int64"
            ]
          },
          "execution_count": 8,
          "metadata": {},
          "output_type": "execute_result"
        }
      ],
      "source": [
        "fake['subject'].value_counts() # it shows the details how many news, how many political news, so on"
      ]
    },
    {
      "cell_type": "code",
      "execution_count": null,
      "metadata": {
        "colab": {
          "base_uri": "https://localhost:8080/",
          "height": 467
        },
        "id": "K_qO0NBes2Y5",
        "outputId": "376f71c4-07de-4b23-c3e5-5b624e387c88"
      },
      "outputs": [
        {
          "data": {
            "text/plain": [
              "<Axes: xlabel='count', ylabel='subject'>"
            ]
          },
          "execution_count": 9,
          "metadata": {},
          "output_type": "execute_result"
        },
        {
          "data": {
            "image/png": "[encoded data removed]",
            "text/plain": [
              "<Figure size 640x480 with 1 Axes>"
            ]
          },
          "metadata": {},
          "output_type": "display_data"
        }
      ],
      "source": [
        "sns.countplot(fake['subject'])"
      ]
    },
    {
      "cell_type": "code",
      "execution_count": null,
      "metadata": {
        "id": "jowF2FfbuPXD"
      },
      "outputs": [],
      "source": [
        "# for textdata visualization - worldcloud"
      ]
    },
    {
      "cell_type": "code",
      "execution_count": null,
      "metadata": {
        "id": "3pmkx_lTvIFH"
      },
      "outputs": [],
      "source": [
        "text = ' '.join(fake['text'].tolist()) # this will combine all the list of fake new in a single text"
      ]
    },
    {
      "cell_type": "code",
      "execution_count": null,
      "metadata": {
        "colab": {
          "background_save": true
        },
        "id": "0fBDwSm3vO3h",
        "outputId": "a8e09acb-4bdd-4a21-e82a-e09118d1ee59"
      },
      "outputs": [
        {
          "name": "stdout",
          "output_type": "stream",
          "text": [
            "Buffered data was truncated after reaching the output size limit."
          ]
        }
      ],
      "source": [
        "text"
      ]
    },
    {
      "cell_type": "code",
      "execution_count": null,
      "metadata": {
        "colab": {
          "background_save": true
        },
        "id": "Al4Vb7gtvP-6",
        "outputId": "4f4891f3-1339-4ffa-a531-56b4dfbe58fd"
      },
      "outputs": [
        {
          "data": {
            "text/plain": [
              "<matplotlib.image.AxesImage at 0x7d627dc873d0>"
            ]
          },
          "execution_count": 13,
          "metadata": {},
          "output_type": "execute_result"
        },
        {
          "data": {
            "image/png": "[encoded data removed]",
            "text/plain": [
              "<Figure size 640x480 with 1 Axes>"
            ]
          },
          "metadata": {},
          "output_type": "display_data"
        }
      ],
      "source": [
        "wordcloud = WordCloud(width = 3000, height = 2000, random_state = 42, background_color = 'black').generate(text)\n",
        "plt.imshow(wordcloud)"
      ]
    },
    {
      "cell_type": "markdown",
      "metadata": {
        "id": "f7Sj2NDPxwI9"
      },
      "source": [
        "### True News\n"
      ]
    },
    {
      "cell_type": "code",
      "execution_count": null,
      "metadata": {
        "colab": {
          "background_save": true
        },
        "id": "qbjZYaJ1wIfv"
      },
      "outputs": [],
      "source": [
        "real = pd.read_csv('/content/drive/MyDrive/fake_news_detection/True.csv')"
      ]
    },
    {
      "cell_type": "code",
      "execution_count": null,
      "metadata": {
        "colab": {
          "background_save": true
        },
        "id": "Hj8T5FWlx2TZ"
      },
      "outputs": [],
      "source": [
        "text = ' '.join(real['text'].tolist())"
      ]
    },
    {
      "cell_type": "code",
      "execution_count": null,
      "metadata": {
        "colab": {
          "background_save": true
        },
        "id": "FYIRLjhgyJyW",
        "outputId": "7c099275-0e03-412a-aac0-b8e6d4cac51e"
      },
      "outputs": [
        {
          "name": "stdout",
          "output_type": "stream",
          "text": [
            "Buffered data was truncated after reaching the output size limit."
          ]
        }
      ],
      "source": [
        "text"
      ]
    },
    {
      "cell_type": "code",
      "execution_count": null,
      "metadata": {
        "id": "Ks-tE2oFyQwN"
      },
      "outputs": [],
      "source": [
        "wordcloud = WordCloud(width = 3000, height = 2000, random_state = 42, background_color = 'black').generate(text)\n",
        "plt.imshow(wordcloud)"
      ]
    },
    {
      "cell_type": "markdown",
      "metadata": {
        "id": "-FZuwWzh0p_2"
      },
      "source": [
        "## Difference in Text\n",
        "Real news seems to have source of publication which is not present in fake news set\n",
        "Looking at the data:\n",
        "\n",
        "• most of text contains reuters information such as \"WASHINGTON (Reuters)\"\n",
        "\n",
        "• Some text are tweets from Twitter\n",
        "\n",
        "• Few text do not contain any publication info"
      ]
    },
    {
      "cell_type": "markdown",
      "metadata": {
        "id": "5QJgmiIw06B6"
      },
      "source": [
        "### Cleaning Data\n",
        "\n",
        "Removing Reuters or Twitter Tweet information from the text\n",
        "\n",
        "• Text can be splitted only once at \" - \" which is always present after mentioning source of publication, this gives us publication part and\n",
        "\n",
        "text part\n",
        "\n",
        "• If we do not get text part, this means publication details was't given for that record\n",
        "\n",
        "• The Twitter tweets always have same source, a long text of max 259 characters"
      ]
    },
    {
      "cell_type": "code",
      "execution_count": null,
      "metadata": {
        "id": "OeNrSCn7yiIW"
      },
      "outputs": [],
      "source": [
        "real.sample(5)"
      ]
    },
    {
      "cell_type": "code",
      "execution_count": null,
      "metadata": {
        "id": "pdSzUKXX1tX1"
      },
      "outputs": [],
      "source": [
        "unknown_publishers = []\n",
        "for index, row in  enumerate(real.text.values):\n",
        "  try:\n",
        "    record = row.split('-', maxsplit=1) # in text atleast 1 split with '-' then there is publisher\n",
        "    record[1]\n",
        "    assert(len(record[0])<120) # the news should be less than 120 word\n",
        "\n",
        "    # if this gives error the it will go to exception\n",
        "  except:\n",
        "    unknown_publishers.append(index)"
      ]
    },
    {
      "cell_type": "code",
      "execution_count": null,
      "metadata": {
        "id": "mHAb_kJn4J0U"
      },
      "outputs": [],
      "source": [
        "len(unknown_publishers)"
      ]
    },
    {
      "cell_type": "code",
      "execution_count": null,
      "metadata": {
        "id": "H72iDyTT4fT9"
      },
      "outputs": [],
      "source": [
        "real.iloc[unknown_publishers].text"
      ]
    },
    {
      "cell_type": "code",
      "execution_count": null,
      "metadata": {
        "id": "YAp0WKF045ff"
      },
      "outputs": [],
      "source": [
        "real.iloc[8970] # row is empty - drop it"
      ]
    },
    {
      "cell_type": "code",
      "execution_count": null,
      "metadata": {
        "id": "ft1BoHyuw0OI"
      },
      "outputs": [],
      "source": [
        "real = real.drop(8970, axis=0)"
      ]
    },
    {
      "cell_type": "code",
      "execution_count": null,
      "metadata": {
        "id": "dBlTHjlNxF6I"
      },
      "outputs": [],
      "source": [
        "publisher = []\n",
        "tmp_text = []\n",
        "for index, row in enumerate(real.text.values):\n",
        "  if index in unknown_publishers:\n",
        "    publisher.append('Unknown')\n",
        "    tmp_text.append(row)\n",
        "  else:\n",
        "    record = row.split('-', maxsplit=1)\n",
        "    publisher.append(record[0].strip())\n",
        "    tmp_text.append(record[1].strip())"
      ]
    },
    {
      "cell_type": "code",
      "execution_count": null,
      "metadata": {
        "id": "M_7mkDoTxo7y"
      },
      "outputs": [],
      "source": [
        "real['publisher'] = publisher\n",
        "real['text'] = tmp_text"
      ]
    },
    {
      "cell_type": "code",
      "execution_count": null,
      "metadata": {
        "id": "AzpghmGOyTS8"
      },
      "outputs": [],
      "source": [
        "real.head() # after many modifications"
      ]
    },
    {
      "cell_type": "code",
      "execution_count": null,
      "metadata": {
        "id": "2KL0R-KiyaKR"
      },
      "outputs": [],
      "source": [
        "real.shape"
      ]
    },
    {
      "cell_type": "code",
      "execution_count": null,
      "metadata": {
        "id": "tX8hsPA9ygeh"
      },
      "outputs": [],
      "source": [
        "\n",
        "empty_fake_index = [index for index,text in enumerate(fake.text.tolist()) if str(text).strip()==\"\"] # this will give the data having empty lines\n",
        "\n",
        "# it check data in the text column"
      ]
    },
    {
      "cell_type": "code",
      "execution_count": null,
      "metadata": {
        "id": "ug5WTgfmzF7A"
      },
      "outputs": [],
      "source": [
        "fake.iloc[empty_fake_index]"
      ]
    },
    {
      "cell_type": "code",
      "execution_count": null,
      "metadata": {
        "id": "XhVZ5vXGzPrg"
      },
      "outputs": [],
      "source": [
        "# we have to remove this data from the data set - before giving it for traning\n",
        "# giving the text - the title"
      ]
    },
    {
      "cell_type": "code",
      "execution_count": null,
      "metadata": {
        "id": "Op_4QN6Nz3P6"
      },
      "outputs": [],
      "source": [
        "real['title'] + \" \" + real['text']"
      ]
    },
    {
      "cell_type": "code",
      "execution_count": null,
      "metadata": {
        "id": "UHsaOo7Rz_U3"
      },
      "outputs": [],
      "source": [
        "fake['title'] + \" \" + fake['text']"
      ]
    },
    {
      "cell_type": "code",
      "execution_count": null,
      "metadata": {
        "id": "LzitIe-r0Lj3"
      },
      "outputs": [],
      "source": [
        "real['text'] = real['title'] + \" \" + real['text']\n",
        "fake['text'] = fake['title'] + \" \" + fake['text']"
      ]
    },
    {
      "cell_type": "code",
      "execution_count": null,
      "metadata": {
        "id": "viQnrzKO0sWs"
      },
      "outputs": [],
      "source": [
        "# this make the text into the lowercase\n",
        "\n",
        "real['text'] = real['text'].apply(lambda x: str(x).lower())\n",
        "fake['text'] = fake['text'].apply(lambda x: str(x).lower())"
      ]
    },
    {
      "cell_type": "markdown",
      "metadata": {
        "id": "3O4jDhin1FWK"
      },
      "source": [
        "### Perprocessing Data"
      ]
    },
    {
      "cell_type": "code",
      "execution_count": null,
      "metadata": {
        "id": "SC8HHLg_1UVS"
      },
      "outputs": [],
      "source": [
        "# add the class 1 for real and 0 for fake\n",
        "real['class'] = 1\n",
        "fake['class'] = 0"
      ]
    },
    {
      "cell_type": "code",
      "execution_count": null,
      "metadata": {
        "id": "vSQPv67B1doi"
      },
      "outputs": [],
      "source": [
        "real.head()"
      ]
    },
    {
      "cell_type": "code",
      "execution_count": null,
      "metadata": {
        "id": "AJ8hADzT1iqY"
      },
      "outputs": [],
      "source": [
        "fake.head()"
      ]
    },
    {
      "cell_type": "code",
      "execution_count": null,
      "metadata": {
        "id": "VdSIhhiQ1lcB"
      },
      "outputs": [],
      "source": [
        "# now for data preprocessing - we need the data from text and class only\n",
        "\n",
        "real = real[['text', 'class']]\n",
        "fake = fake[['text', 'class']]"
      ]
    },
    {
      "cell_type": "code",
      "execution_count": null,
      "metadata": {
        "id": "JJe8zV0_2S4X"
      },
      "outputs": [],
      "source": [
        "# real.append(fake, ignore_index=True) ---- giving error\n",
        "data = pd.concat([real, fake], ignore_index=True) # it concatinate the data\n"
      ]
    },
    {
      "cell_type": "code",
      "execution_count": null,
      "metadata": {
        "id": "pk8qoVhT2jf2"
      },
      "outputs": [],
      "source": [
        "data.sample(5)"
      ]
    },
    {
      "cell_type": "code",
      "execution_count": null,
      "metadata": {
        "id": "nS_ce7Oh217C"
      },
      "outputs": [],
      "source": [
        "# remove the character from data\n",
        "import pandas as pd\n",
        "import re\n",
        "\n",
        "# Sample function to remove special characters\n",
        "def remove_special_characters(text):\n",
        "    return re.sub(r'[^A-Za-z0-9\\s]', '', str(text))\n",
        "\n",
        "# Example: Load your dataset (replace this with your real dataset)\n",
        "# df = pd.read_csv(\"your_dataset.csv\")\n",
        "\n",
        "# Apply to a specific column, e.g., 'text'\n",
        "data['text'] = data['text'].apply(remove_special_characters)\n",
        "\n",
        "# If you want to preview the result\n",
        "print(data['text'].head())\n"
      ]
    },
    {
      "cell_type": "code",
      "execution_count": null,
      "metadata": {
        "id": "55t2ryHA4SxT"
      },
      "outputs": [],
      "source": [
        "data.sample(5)"
      ]
    },
    {
      "cell_type": "markdown",
      "metadata": {
        "id": "vAkexry94_FG"
      },
      "source": [
        "### Vectorization - Word2Vec\n",
        "Word2Vec is one of the most popular technique to learn word embeddings using shallow neural network. It was developed by Tomas Mikolov in 2013 at Google.\n",
        "\n",
        "Word embedding is the most popular representation of document vocabulary. It is capable of capturing context of a word in a document,\n",
        "semantic and syntactic similarity, relation with other words, etc."
      ]
    },
    {
      "cell_type": "code",
      "execution_count": null,
      "metadata": {
        "id": "5lx5qAdD4fZj"
      },
      "outputs": [],
      "source": [
        "# !pip install numpy==1.26.4\n",
        "# !pip install --force-reinstall --no-cache-dir gensim\n"
      ]
    },
    {
      "cell_type": "code",
      "execution_count": null,
      "metadata": {
        "id": "-HrNyMf-5v3o"
      },
      "outputs": [],
      "source": [
        "import gensim\n"
      ]
    },
    {
      "cell_type": "code",
      "execution_count": 55,
      "metadata": {
        "colab": {
          "base_uri": "https://localhost:8080/"
        },
        "id": "1elwNlRE6go9",
        "outputId": "5e024f01-9399-41e2-8b77-7547e861ca94"
      },
      "outputs": [
        {
          "data": {
            "text/plain": [
              "array([1, 1, 1, ..., 0, 0, 0])"
            ]
          },
          "execution_count": 55,
          "metadata": {},
          "output_type": "execute_result"
        }
      ],
      "source": [
        "data['class'].values"
      ]
    },
    {
      "cell_type": "code",
      "execution_count": 56,
      "metadata": {
        "id": "5aFpMXUXN8pr"
      },
      "outputs": [],
      "source": [
        "y = data['class'].values"
      ]
    },
    {
      "cell_type": "code",
      "execution_count": 152,
      "metadata": {
        "id": "iUGd3hfkODl1"
      },
      "outputs": [],
      "source": [
        "# [d.split() for d in data['text'].tolist()]   ----   all the word in the sentence\n"
      ]
    },
    {
      "cell_type": "code",
      "execution_count": 58,
      "metadata": {
        "id": "qcwILPJxOH_a"
      },
      "outputs": [],
      "source": [
        "X = [d.split() for d in data['text'].tolist()]"
      ]
    },
    {
      "cell_type": "code",
      "execution_count": 59,
      "metadata": {
        "colab": {
          "base_uri": "https://localhost:8080/"
        },
        "id": "H-KXMiqpONsh",
        "outputId": "16c3436b-035a-47ee-d806-09122cb40b22"
      },
      "outputs": [
        {
          "name": "stdout",
          "output_type": "stream",
          "text": [
            "['as', 'us', 'budget', 'fight', 'looms', 'republicans', 'flip', 'their', 'fiscal', 'script', 'the', 'head', 'of', 'a', 'conservative', 'republican', 'faction', 'in', 'the', 'us', 'congress', 'who', 'voted', 'this', 'month', 'for', 'a', 'huge', 'expansion', 'of', 'the', 'national', 'debt', 'to', 'pay', 'for', 'tax', 'cuts', 'called', 'himself', 'a', 'fiscal', 'conservative', 'on', 'sunday', 'and', 'urged', 'budget', 'restraint', 'in', '2018', 'in', 'keeping', 'with', 'a', 'sharp', 'pivot', 'under', 'way', 'among', 'republicans', 'us', 'representative', 'mark', 'meadows', 'speaking', 'on', 'cbs', 'face', 'the', 'nation', 'drew', 'a', 'hard', 'line', 'on', 'federal', 'spending', 'which', 'lawmakers', 'are', 'bracing', 'to', 'do', 'battle', 'over', 'in', 'january', 'when', 'they', 'return', 'from', 'the', 'holidays', 'on', 'wednesday', 'lawmakers', 'will', 'begin', 'trying', 'to', 'pass', 'a', 'federal', 'budget', 'in', 'a', 'fight', 'likely', 'to', 'be', 'linked', 'to', 'other', 'issues', 'such', 'as', 'immigration', 'policy', 'even', 'as', 'the', 'november', 'congressional', 'election', 'campaigns', 'approach', 'in', 'which', 'republicans', 'will', 'seek', 'to', 'keep', 'control', 'of', 'congress', 'president', 'donald', 'trump', 'and', 'his', 'republicans', 'want', 'a', 'big', 'budget', 'increase', 'in', 'military', 'spending', 'while', 'democrats', 'also', 'want', 'proportional', 'increases', 'for', 'nondefense', 'discretionary', 'spending', 'on', 'programs', 'that', 'support', 'education', 'scientific', 'research', 'infrastructure', 'public', 'health', 'and', 'environmental', 'protection', 'the', 'trump', 'administration', 'has', 'already', 'been', 'willing', 'to', 'say', 'were', 'going', 'to', 'increase', 'nondefense', 'discretionary', 'spending', 'by', 'about', '7', 'percent', 'meadows', 'chairman', 'of', 'the', 'small', 'but', 'influential', 'house', 'freedom', 'caucus', 'said', 'on', 'the', 'program', 'now', 'democrats', 'are', 'saying', 'thats', 'not', 'enough', 'we', 'need', 'to', 'give', 'the', 'government', 'a', 'pay', 'raise', 'of', '10', 'to', '11', 'percent', 'for', 'a', 'fiscal', 'conservative', 'i', 'dont', 'see', 'where', 'the', 'rationale', 'is', 'eventually', 'you', 'run', 'out', 'of', 'other', 'peoples', 'money', 'he', 'said', 'meadows', 'was', 'among', 'republicans', 'who', 'voted', 'in', 'late', 'december', 'for', 'their', 'partys', 'debtfinanced', 'tax', 'overhaul', 'which', 'is', 'expected', 'to', 'balloon', 'the', 'federal', 'budget', 'deficit', 'and', 'add', 'about', '15', 'trillion', 'over', '10', 'years', 'to', 'the', '20', 'trillion', 'national', 'debt', 'its', 'interesting', 'to', 'hear', 'mark', 'talk', 'about', 'fiscal', 'responsibility', 'democratic', 'us', 'representative', 'joseph', 'crowley', 'said', 'on', 'cbs', 'crowley', 'said', 'the', 'republican', 'tax', 'bill', 'would', 'require', 'the', 'united', 'states', 'to', 'borrow', '15', 'trillion', 'to', 'be', 'paid', 'off', 'by', 'future', 'generations', 'to', 'finance', 'tax', 'cuts', 'for', 'corporations', 'and', 'the', 'rich', 'this', 'is', 'one', 'of', 'the', 'least', 'fiscally', 'responsible', 'bills', 'weve', 'ever', 'seen', 'passed', 'in', 'the', 'history', 'of', 'the', 'house', 'of', 'representatives', 'i', 'think', 'were', 'going', 'to', 'be', 'paying', 'for', 'this', 'for', 'many', 'many', 'years', 'to', 'come', 'crowley', 'said', 'republicans', 'insist', 'the', 'tax', 'package', 'the', 'biggest', 'us', 'tax', 'overhaul', 'in', 'more', 'than', '30', 'years', 'will', 'boost', 'the', 'economy', 'and', 'job', 'growth', 'house', 'speaker', 'paul', 'ryan', 'who', 'also', 'supported', 'the', 'tax', 'bill', 'recently', 'went', 'further', 'than', 'meadows', 'making', 'clear', 'in', 'a', 'radio', 'interview', 'that', 'welfare', 'or', 'entitlement', 'reform', 'as', 'the', 'party', 'often', 'calls', 'it', 'would', 'be', 'a', 'top', 'republican', 'priority', 'in', '2018', 'in', 'republican', 'parlance', 'entitlement', 'programs', 'mean', 'food', 'stamps', 'housing', 'assistance', 'medicare', 'and', 'medicaid', 'health', 'insurance', 'for', 'the', 'elderly', 'poor', 'and', 'disabled', 'as', 'well', 'as', 'other', 'programs', 'created', 'by', 'washington', 'to', 'assist', 'the', 'needy', 'democrats', 'seized', 'on', 'ryans', 'early', 'december', 'remarks', 'saying', 'they', 'showed', 'republicans', 'would', 'try', 'to', 'pay', 'for', 'their', 'tax', 'overhaul', 'by', 'seeking', 'spending', 'cuts', 'for', 'social', 'programs', 'but', 'the', 'goals', 'of', 'house', 'republicans', 'may', 'have', 'to', 'take', 'a', 'back', 'seat', 'to', 'the', 'senate', 'where', 'the', 'votes', 'of', 'some', 'democrats', 'will', 'be', 'needed', 'to', 'approve', 'a', 'budget', 'and', 'prevent', 'a', 'government', 'shutdown', 'democrats', 'will', 'use', 'their', 'leverage', 'in', 'the', 'senate', 'which', 'republicans', 'narrowly', 'control', 'to', 'defend', 'both', 'discretionary', 'nondefense', 'programs', 'and', 'social', 'spending', 'while', 'tackling', 'the', 'issue', 'of', 'the', 'dreamers', 'people', 'brought', 'illegally', 'to', 'the', 'country', 'as', 'children', 'trump', 'in', 'september', 'put', 'a', 'march', '2018', 'expiration', 'date', 'on', 'the', 'deferred', 'action', 'for', 'childhood', 'arrivals', 'or', 'daca', 'program', 'which', 'protects', 'the', 'young', 'immigrants', 'from', 'deportation', 'and', 'provides', 'them', 'with', 'work', 'permits', 'the', 'president', 'has', 'said', 'in', 'recent', 'twitter', 'messages', 'he', 'wants', 'funding', 'for', 'his', 'proposed', 'mexican', 'border', 'wall', 'and', 'other', 'immigration', 'law', 'changes', 'in', 'exchange', 'for', 'agreeing', 'to', 'help', 'the', 'dreamers', 'representative', 'debbie', 'dingell', 'told', 'cbs', 'she', 'did', 'not', 'favor', 'linking', 'that', 'issue', 'to', 'other', 'policy', 'objectives', 'such', 'as', 'wall', 'funding', 'we', 'need', 'to', 'do', 'daca', 'clean', 'she', 'said', 'on', 'wednesday', 'trump', 'aides', 'will', 'meet', 'with', 'congressional', 'leaders', 'to', 'discuss', 'those', 'issues', 'that', 'will', 'be', 'followed', 'by', 'a', 'weekend', 'of', 'strategy', 'sessions', 'for', 'trump', 'and', 'republican', 'leaders', 'on', 'jan', '6', 'and', '7', 'the', 'white', 'house', 'said', 'trump', 'was', 'also', 'scheduled', 'to', 'meet', 'on', 'sunday', 'with', 'florida', 'republican', 'governor', 'rick', 'scott', 'who', 'wants', 'more', 'emergency', 'aid', 'the', 'house', 'has', 'passed', 'an', '81', 'billion', 'aid', 'package', 'after', 'hurricanes', 'in', 'florida', 'texas', 'and', 'puerto', 'rico', 'and', 'wildfires', 'in', 'california', 'the', 'package', 'far', 'exceeded', 'the', '44', 'billion', 'requested', 'by', 'the', 'trump', 'administration', 'the', 'senate', 'has', 'not', 'yet', 'voted', 'on', 'the', 'aid']\n"
          ]
        }
      ],
      "source": [
        "print(X[0]) # list of words in first news"
      ]
    },
    {
      "cell_type": "code",
      "execution_count": 61,
      "metadata": {
        "id": "0EMYU0eVOQv3"
      },
      "outputs": [],
      "source": [
        "DIM = 100 # dimension of the vectors\n",
        "w2v_model = gensim.models.Word2Vec(sentences=X, vector_size=DIM, window=10, min_count=1)  # window means 10 words come in grp"
      ]
    },
    {
      "cell_type": "code",
      "execution_count": 62,
      "metadata": {
        "colab": {
          "base_uri": "https://localhost:8080/"
        },
        "id": "3fyY5kmeO93u",
        "outputId": "db3b1134-6dfa-4b19-bea6-825a57dbfbac"
      },
      "outputs": [
        {
          "data": {
            "text/plain": [
              "230760"
            ]
          },
          "execution_count": 62,
          "metadata": {},
          "output_type": "execute_result"
        }
      ],
      "source": [
        "len(w2v_model.wv)"
      ]
    },
    {
      "cell_type": "code",
      "execution_count": 63,
      "metadata": {
        "colab": {
          "base_uri": "https://localhost:8080/"
        },
        "id": "u-PaCYyrP5hF",
        "outputId": "0188c073-16b3-493a-edce-436ef7fb9762"
      },
      "outputs": [
        {
          "data": {
            "text/plain": [
              "<gensim.models.keyedvectors.KeyedVectors at 0x7d621e1d6b90>"
            ]
          },
          "execution_count": 63,
          "metadata": {},
          "output_type": "execute_result"
        }
      ],
      "source": [
        "w2v_model.wv"
      ]
    },
    {
      "cell_type": "code",
      "execution_count": 64,
      "metadata": {
        "colab": {
          "base_uri": "https://localhost:8080/"
        },
        "id": "Q453jOswP92p",
        "outputId": "c2bd0676-cfc2-4858-a082-36798cff0a6e"
      },
      "outputs": [
        {
          "data": {
            "text/plain": [
              "array([ 3.7882168 ,  0.3063729 ,  0.06702469, -2.0478196 , -0.7046827 ,\n",
              "       -1.0378225 ,  0.53444046,  0.68054587,  0.20659824,  4.529558  ,\n",
              "        0.7485825 , -2.765803  , -4.2123094 , -1.8206362 ,  0.60477906,\n",
              "       -0.7554942 , -1.0325674 ,  1.2111753 ,  2.7321746 , -1.6754001 ,\n",
              "       -3.7231817 , -2.3114967 , -0.39407733,  1.2714458 , -0.7520706 ,\n",
              "        6.093133  ,  0.88553077, -1.7814049 , -0.798776  , -2.8627288 ,\n",
              "        2.827131  , -1.3384974 , -2.246646  , -0.32152358, -1.7165935 ,\n",
              "        2.72997   ,  0.6303243 ,  0.41499716,  0.86058295, -1.8421763 ,\n",
              "       -1.2781957 , -5.1146526 , -4.090139  , -2.0090215 , -2.3391275 ,\n",
              "       -0.5826999 ,  2.1805472 , -2.3099885 , -0.22522995, -1.1250099 ,\n",
              "       -0.2992647 ,  4.104486  ,  1.1819177 , -3.0862985 , -1.6991359 ,\n",
              "        0.22925796, -4.61022   , -0.10974412, -3.5532184 , -0.11964508,\n",
              "       -3.6518083 , -2.7116592 , -0.21219395, -2.196228  ,  0.49073535,\n",
              "       -1.5858194 ,  2.2078648 ,  0.9161463 , -0.7025371 ,  2.2605696 ,\n",
              "        2.272458  ,  2.220285  ,  3.1009748 ,  1.3361814 , -0.3225133 ,\n",
              "       -0.08383454, -2.663312  , -1.42065   , -0.96152514, -1.0136626 ,\n",
              "       -1.6638063 , -2.4717402 , -1.6287482 , -1.1456074 ,  1.1947802 ,\n",
              "       -1.6783433 , -1.0198628 , -4.550117  ,  0.76667297,  1.0070168 ,\n",
              "       -0.58001626, -5.093035  , -1.3405424 ,  1.3461719 ,  2.606614  ,\n",
              "        2.9023175 ,  1.5593103 ,  0.83714205, -0.5828241 ,  1.6756216 ],\n",
              "      dtype=float32)"
            ]
          },
          "execution_count": 64,
          "metadata": {},
          "output_type": "execute_result"
        }
      ],
      "source": [
        "w2v_model.wv['love'] # vector for the word love"
      ]
    },
    {
      "cell_type": "code",
      "execution_count": 67,
      "metadata": {
        "colab": {
          "base_uri": "https://localhost:8080/"
        },
        "id": "6vvXR3rmQRwf",
        "outputId": "b6e57163-5124-44fa-a928-d7a4bfb2e557"
      },
      "outputs": [
        {
          "data": {
            "text/plain": [
              "[('applaud', 0.7218809723854065),\n",
              " ('thank', 0.7032722234725952),\n",
              " ('appreciate', 0.671428918838501),\n",
              " ('wish', 0.6685125827789307),\n",
              " ('admire', 0.6562840342521667),\n",
              " ('loving', 0.6110475659370422),\n",
              " ('beautiful', 0.6104397773742676),\n",
              " ('pray', 0.6093645095825195),\n",
              " ('wonderful', 0.6086299419403076),\n",
              " ('loves', 0.6034655570983887)]"
            ]
          },
          "execution_count": 67,
          "metadata": {},
          "output_type": "execute_result"
        }
      ],
      "source": [
        "w2v_model.wv.most_similar('love') # those are the word related to the love"
      ]
    },
    {
      "cell_type": "code",
      "execution_count": 68,
      "metadata": {
        "id": "VnTuHQRrQZ_H"
      },
      "outputs": [],
      "source": [
        "tokenizer = Tokenizer()\n",
        "tokenizer.fit_on_texts(X)"
      ]
    },
    {
      "cell_type": "code",
      "execution_count": 69,
      "metadata": {
        "id": "XDQzei5AQrTG"
      },
      "outputs": [],
      "source": [
        "X = tokenizer.texts_to_sequences(X) # change the vectors in the sequences"
      ]
    },
    {
      "cell_type": "code",
      "execution_count": 153,
      "metadata": {
        "id": "Sa010lBgQ0hK"
      },
      "outputs": [],
      "source": [
        "# X"
      ]
    },
    {
      "cell_type": "code",
      "execution_count": 71,
      "metadata": {
        "colab": {
          "base_uri": "https://localhost:8080/"
        },
        "id": "lDTAuyE8Q4HE",
        "outputId": "21098b9c-4f7c-413e-c0aa-62c05c0b6412"
      },
      "outputs": [
        {
          "data": {
            "text/plain": [
              "{'the': 1,\n",
              " 'to': 2,\n",
              " 'of': 3,\n",
              " 'a': 4,\n",
              " 'and': 5,\n",
              " 'in': 6,\n",
              " 'that': 7,\n",
              " 'on': 8,\n",
              " 'for': 9,\n",
              " 's': 10,\n",
              " 'is': 11,\n",
              " 'he': 12,\n",
              " 'said': 13,\n",
              " 'trump': 14,\n",
              " 'it': 15,\n",
              " 'with': 16,\n",
              " 'was': 17,\n",
              " 'as': 18,\n",
              " 'his': 19,\n",
              " 'by': 20,\n",
              " 'has': 21,\n",
              " 'be': 22,\n",
              " 'have': 23,\n",
              " 'not': 24,\n",
              " 'from': 25,\n",
              " 'this': 26,\n",
              " 'at': 27,\n",
              " 'are': 28,\n",
              " 'who': 29,\n",
              " 'us': 30,\n",
              " 'an': 31,\n",
              " 'they': 32,\n",
              " 'i': 33,\n",
              " 'but': 34,\n",
              " 'we': 35,\n",
              " 'would': 36,\n",
              " 'president': 37,\n",
              " 'about': 38,\n",
              " 'will': 39,\n",
              " 'their': 40,\n",
              " 'had': 41,\n",
              " 'you': 42,\n",
              " 't': 43,\n",
              " 'been': 44,\n",
              " 'were': 45,\n",
              " 'people': 46,\n",
              " 'more': 47,\n",
              " 'or': 48,\n",
              " 'after': 49,\n",
              " 'which': 50,\n",
              " 'she': 51,\n",
              " 'her': 52,\n",
              " 'one': 53,\n",
              " 'if': 54,\n",
              " 'its': 55,\n",
              " 'out': 56,\n",
              " 'all': 57,\n",
              " 'what': 58,\n",
              " 'state': 59,\n",
              " 'when': 60,\n",
              " 'new': 61,\n",
              " 'also': 62,\n",
              " 'up': 63,\n",
              " 'there': 64,\n",
              " 'over': 65,\n",
              " 'no': 66,\n",
              " 'house': 67,\n",
              " 'donald': 68,\n",
              " 'our': 69,\n",
              " 'states': 70,\n",
              " 'clinton': 71,\n",
              " 'obama': 72,\n",
              " 'government': 73,\n",
              " 'can': 74,\n",
              " 'just': 75,\n",
              " 'him': 76,\n",
              " 'so': 77,\n",
              " 'than': 78,\n",
              " 'republican': 79,\n",
              " 'other': 80,\n",
              " 'some': 81,\n",
              " 'could': 82,\n",
              " 'white': 83,\n",
              " 'into': 84,\n",
              " 'told': 85,\n",
              " 'united': 86,\n",
              " 'against': 87,\n",
              " 'like': 88,\n",
              " 'do': 89,\n",
              " 'because': 90,\n",
              " 'campaign': 91,\n",
              " 'them': 92,\n",
              " 'news': 93,\n",
              " 'any': 94,\n",
              " 'last': 95,\n",
              " 'election': 96,\n",
              " 'two': 97,\n",
              " 'time': 98,\n",
              " 'now': 99,\n",
              " 'how': 100,\n",
              " 'party': 101,\n",
              " 'first': 102,\n",
              " 'only': 103,\n",
              " 'former': 104,\n",
              " 'hillary': 105,\n",
              " 'should': 106,\n",
              " 'even': 107,\n",
              " 'being': 108,\n",
              " 'year': 109,\n",
              " 'while': 110,\n",
              " 'country': 111,\n",
              " 'video': 112,\n",
              " 'did': 113,\n",
              " 'before': 114,\n",
              " 'years': 115,\n",
              " 'during': 116,\n",
              " 'many': 117,\n",
              " 'media': 118,\n",
              " 'security': 119,\n",
              " 'may': 120,\n",
              " 'most': 121,\n",
              " 'say': 122,\n",
              " 'political': 123,\n",
              " 'national': 124,\n",
              " 'police': 125,\n",
              " 'get': 126,\n",
              " 'law': 127,\n",
              " 'made': 128,\n",
              " 'court': 129,\n",
              " 'make': 130,\n",
              " 'those': 131,\n",
              " 'american': 132,\n",
              " 'republicans': 133,\n",
              " 'since': 134,\n",
              " 'going': 135,\n",
              " 'where': 136,\n",
              " 'percent': 137,\n",
              " 'trumps': 138,\n",
              " 'bill': 139,\n",
              " 'presidential': 140,\n",
              " 'under': 141,\n",
              " 'very': 142,\n",
              " 'back': 143,\n",
              " 'these': 144,\n",
              " 'says': 145,\n",
              " 'russia': 146,\n",
              " 'north': 147,\n",
              " 'senate': 148,\n",
              " 'support': 149,\n",
              " 'democratic': 150,\n",
              " 'administration': 151,\n",
              " 'vote': 152,\n",
              " 'america': 153,\n",
              " 'down': 154,\n",
              " 'week': 155,\n",
              " 'between': 156,\n",
              " 'including': 157,\n",
              " 'group': 158,\n",
              " 'then': 159,\n",
              " 'know': 160,\n",
              " 'officials': 161,\n",
              " 'think': 162,\n",
              " 'according': 163,\n",
              " 'way': 164,\n",
              " 'take': 165,\n",
              " 'public': 166,\n",
              " 'office': 167,\n",
              " 'federal': 168,\n",
              " 'military': 169,\n",
              " 'such': 170,\n",
              " 'my': 171,\n",
              " 'foreign': 172,\n",
              " 'called': 173,\n",
              " 're': 174,\n",
              " 'via': 175,\n",
              " 'right': 176,\n",
              " 'million': 177,\n",
              " 'world': 178,\n",
              " 'statement': 179,\n",
              " 'department': 180,\n",
              " 'washington': 181,\n",
              " 'want': 182,\n",
              " 'saying': 183,\n",
              " 'tax': 184,\n",
              " 'don': 185,\n",
              " 'well': 186,\n",
              " 'see': 187,\n",
              " 'here': 188,\n",
              " 'congress': 189,\n",
              " 'still': 190,\n",
              " 'russian': 191,\n",
              " 'tuesday': 192,\n",
              " 'both': 193,\n",
              " 'your': 194,\n",
              " 'much': 195,\n",
              " 'democrats': 196,\n",
              " 'image': 197,\n",
              " 'another': 198,\n",
              " 'minister': 199,\n",
              " 'day': 200,\n",
              " 'women': 201,\n",
              " 'part': 202,\n",
              " 'wednesday': 203,\n",
              " 'go': 204,\n",
              " 'work': 205,\n",
              " 'through': 206,\n",
              " 'china': 207,\n",
              " 'policy': 208,\n",
              " 'thursday': 209,\n",
              " 'friday': 210,\n",
              " 'asked': 211,\n",
              " 'own': 212,\n",
              " 'war': 213,\n",
              " 'black': 214,\n",
              " 'deal': 215,\n",
              " 'rights': 216,\n",
              " 'off': 217,\n",
              " 'city': 218,\n",
              " 'secretary': 219,\n",
              " 'official': 220,\n",
              " 'why': 221,\n",
              " 'monday': 222,\n",
              " '2016': 223,\n",
              " 'committee': 224,\n",
              " 'americans': 225,\n",
              " 'next': 226,\n",
              " 'me': 227,\n",
              " 'help': 228,\n",
              " 'general': 229,\n",
              " 'need': 230,\n",
              " 'korea': 231,\n",
              " 'three': 232,\n",
              " 'whether': 233,\n",
              " 'leader': 234,\n",
              " 'case': 235,\n",
              " 'senator': 236,\n",
              " 'never': 237,\n",
              " 'show': 238,\n",
              " 'man': 239,\n",
              " 'around': 240,\n",
              " 'does': 241,\n",
              " 'york': 242,\n",
              " 'order': 243,\n",
              " 'fbi': 244,\n",
              " 'members': 245,\n",
              " 'use': 246,\n",
              " 'candidate': 247,\n",
              " 'report': 248,\n",
              " 'same': 249,\n",
              " 'meeting': 250,\n",
              " 'took': 251,\n",
              " 'good': 252,\n",
              " 'come': 253,\n",
              " 'every': 254,\n",
              " 'reuters': 255,\n",
              " 'iran': 256,\n",
              " 'end': 257,\n",
              " 'left': 258,\n",
              " 'without': 259,\n",
              " 'power': 260,\n",
              " 'used': 261,\n",
              " 'really': 262,\n",
              " 'top': 263,\n",
              " 'twitter': 264,\n",
              " 'attack': 265,\n",
              " 'put': 266,\n",
              " 'investigation': 267,\n",
              " 'intelligence': 268,\n",
              " 'times': 269,\n",
              " 'countries': 270,\n",
              " 'justice': 271,\n",
              " 'money': 272,\n",
              " 'nuclear': 273,\n",
              " 'syria': 274,\n",
              " 'change': 275,\n",
              " 'voters': 276,\n",
              " 'plan': 277,\n",
              " 'trade': 278,\n",
              " 'month': 279,\n",
              " 'information': 280,\n",
              " 'leaders': 281,\n",
              " 'south': 282,\n",
              " 'family': 283,\n",
              " 'speech': 284,\n",
              " 'decision': 285,\n",
              " 'business': 286,\n",
              " 'international': 287,\n",
              " 'groups': 288,\n",
              " 'reported': 289,\n",
              " 'fact': 290,\n",
              " 'days': 291,\n",
              " 'interview': 292,\n",
              " 'long': 293,\n",
              " 'already': 294,\n",
              " 'director': 295,\n",
              " 'several': 296,\n",
              " 'story': 297,\n",
              " 'again': 298,\n",
              " 'far': 299,\n",
              " 'too': 300,\n",
              " 'conservative': 301,\n",
              " 'fox': 302,\n",
              " 'chief': 303,\n",
              " 'likely': 304,\n",
              " 'must': 305,\n",
              " 'health': 306,\n",
              " 'call': 307,\n",
              " 'border': 308,\n",
              " 'john': 309,\n",
              " 'something': 310,\n",
              " 'place': 311,\n",
              " 'immigration': 312,\n",
              " 'months': 313,\n",
              " 'clear': 314,\n",
              " 'supporters': 315,\n",
              " 'agency': 316,\n",
              " 'social': 317,\n",
              " 'home': 318,\n",
              " 'islamic': 319,\n",
              " 'among': 320,\n",
              " 'sanders': 321,\n",
              " 'watch': 322,\n",
              " 'move': 323,\n",
              " 'press': 324,\n",
              " 'post': 325,\n",
              " 'believe': 326,\n",
              " 'however': 327,\n",
              " 'barack': 328,\n",
              " 'got': 329,\n",
              " 'program': 330,\n",
              " 'issue': 331,\n",
              " 'billion': 332,\n",
              " 'won': 333,\n",
              " 'act': 334,\n",
              " 'might': 335,\n",
              " 'children': 336,\n",
              " 'major': 337,\n",
              " 'came': 338,\n",
              " 'muslim': 339,\n",
              " 'recent': 340,\n",
              " 'least': 341,\n",
              " 'sunday': 342,\n",
              " 'killed': 343,\n",
              " 'seen': 344,\n",
              " 'found': 345,\n",
              " 'things': 346,\n",
              " 'number': 347,\n",
              " 'great': 348,\n",
              " 'control': 349,\n",
              " 'trying': 350,\n",
              " 've': 351,\n",
              " 'democrat': 352,\n",
              " 'matter': 353,\n",
              " 'today': 354,\n",
              " 'though': 355,\n",
              " 'didn': 356,\n",
              " 'reporters': 357,\n",
              " 'later': 358,\n",
              " 'win': 359,\n",
              " 'defense': 360,\n",
              " 'm': 361,\n",
              " 'attacks': 362,\n",
              " 'yet': 363,\n",
              " 'economic': 364,\n",
              " 'eu': 365,\n",
              " 'march': 366,\n",
              " 'making': 367,\n",
              " 'spokesman': 368,\n",
              " 'working': 369,\n",
              " 'went': 370,\n",
              " 'executive': 371,\n",
              " 'become': 372,\n",
              " 'actually': 373,\n",
              " 'school': 374,\n",
              " 'look': 375,\n",
              " 'cnn': 376,\n",
              " 'keep': 377,\n",
              " 'stop': 378,\n",
              " 'big': 379,\n",
              " 'free': 380,\n",
              " 'give': 381,\n",
              " 'little': 382,\n",
              " 'nation': 383,\n",
              " 'system': 384,\n",
              " 'legal': 385,\n",
              " 'un': 386,\n",
              " 'set': 387,\n",
              " 'past': 388,\n",
              " 'violence': 389,\n",
              " 'until': 390,\n",
              " 'cruz': 391,\n",
              " 'real': 392,\n",
              " 'himself': 393,\n",
              " 'forces': 394,\n",
              " 'senior': 395,\n",
              " 'earlier': 396,\n",
              " 'away': 397,\n",
              " 'doesn': 398,\n",
              " 'let': 399,\n",
              " 'four': 400,\n",
              " 'thing': 401,\n",
              " 'point': 402,\n",
              " 'added': 403,\n",
              " 'governor': 404,\n",
              " 'talks': 405,\n",
              " 'member': 406,\n",
              " 'doing': 407,\n",
              " 'lawmakers': 408,\n",
              " 'nothing': 409,\n",
              " 'january': 410,\n",
              " 'comment': 411,\n",
              " 'illegal': 412,\n",
              " 'sanctions': 413,\n",
              " 'woman': 414,\n",
              " 'ever': 415,\n",
              " 'wall': 416,\n",
              " 'few': 417,\n",
              " 'opposition': 418,\n",
              " 'head': 419,\n",
              " 'european': 420,\n",
              " 'local': 421,\n",
              " 'taking': 422,\n",
              " 'force': 423,\n",
              " 'nations': 424,\n",
              " 'known': 425,\n",
              " 'issues': 426,\n",
              " 'human': 427,\n",
              " 'nominee': 428,\n",
              " 'following': 429,\n",
              " 'july': 430,\n",
              " 'prime': 431,\n",
              " 'companies': 432,\n",
              " 'possible': 433,\n",
              " 'held': 434,\n",
              " 'gun': 435,\n",
              " 'gop': 436,\n",
              " 'attorney': 437,\n",
              " 'care': 438,\n",
              " 'supreme': 439,\n",
              " 'wants': 440,\n",
              " 'action': 441,\n",
              " 'across': 442,\n",
              " '2015': 443,\n",
              " 'judge': 444,\n",
              " 'team': 445,\n",
              " 'released': 446,\n",
              " 'person': 447,\n",
              " 'pay': 448,\n",
              " 'expected': 449,\n",
              " 'union': 450,\n",
              " 'men': 451,\n",
              " 'continue': 452,\n",
              " 'job': 453,\n",
              " 'community': 454,\n",
              " 'better': 455,\n",
              " 'company': 456,\n",
              " 'enough': 457,\n",
              " 'others': 458,\n",
              " 'given': 459,\n",
              " 'high': 460,\n",
              " 'night': 461,\n",
              " 'once': 462,\n",
              " 'legislation': 463,\n",
              " 'evidence': 464,\n",
              " 'ban': 465,\n",
              " 'financial': 466,\n",
              " '10': 467,\n",
              " 'response': 468,\n",
              " 'history': 469,\n",
              " 'reports': 470,\n",
              " 'taken': 471,\n",
              " 'source': 472,\n",
              " 'budget': 473,\n",
              " 'process': 474,\n",
              " 'question': 475,\n",
              " 'face': 476,\n",
              " 'open': 477,\n",
              " 'images': 478,\n",
              " 'close': 479,\n",
              " 'done': 480,\n",
              " 'fight': 481,\n",
              " 'wrote': 482,\n",
              " 'debate': 483,\n",
              " '20': 484,\n",
              " 'plans': 485,\n",
              " 'special': 486,\n",
              " 'important': 487,\n",
              " 'life': 488,\n",
              " 'syrian': 489,\n",
              " 'june': 490,\n",
              " 'course': 491,\n",
              " 'having': 492,\n",
              " 'university': 493,\n",
              " 'refugees': 494,\n",
              " 'anyone': 495,\n",
              " 'lot': 496,\n",
              " 'race': 497,\n",
              " 'run': 498,\n",
              " 'majority': 499,\n",
              " 'private': 500,\n",
              " 'email': 501,\n",
              " 'iraq': 502,\n",
              " 'using': 503,\n",
              " 'second': 504,\n",
              " 'death': 505,\n",
              " 'air': 506,\n",
              " 'crisis': 507,\n",
              " 'putin': 508,\n",
              " 'staff': 509,\n",
              " 'despite': 510,\n",
              " 'conference': 511,\n",
              " 'saturday': 512,\n",
              " 'further': 513,\n",
              " 'comments': 514,\n",
              " 'november': 515,\n",
              " 'anything': 516,\n",
              " 'efforts': 517,\n",
              " 'behind': 518,\n",
              " 'accused': 519,\n",
              " 'along': 520,\n",
              " 'lives': 521,\n",
              " 'ago': 522,\n",
              " 'able': 523,\n",
              " 'ryan': 524,\n",
              " 'mexico': 525,\n",
              " 'best': 526,\n",
              " 'saudi': 527,\n",
              " '1': 528,\n",
              " 'agreement': 529,\n",
              " 'mr': 530,\n",
              " 'role': 531,\n",
              " 'early': 532,\n",
              " 'find': 533,\n",
              " 'full': 534,\n",
              " 'future': 535,\n",
              " 'am': 536,\n",
              " 'less': 537,\n",
              " 'region': 538,\n",
              " 'lead': 539,\n",
              " 'instead': 540,\n",
              " 'letter': 541,\n",
              " 'comes': 542,\n",
              " 'council': 543,\n",
              " 'weeks': 544,\n",
              " 'five': 545,\n",
              " 'jobs': 546,\n",
              " 'current': 547,\n",
              " 'within': 548,\n",
              " 'due': 549,\n",
              " 'someone': 550,\n",
              " 'civil': 551,\n",
              " 'visit': 552,\n",
              " 'facebook': 553,\n",
              " 'calling': 554,\n",
              " 'sure': 555,\n",
              " 'sources': 556,\n",
              " 'comey': 557,\n",
              " 'service': 558,\n",
              " 'hard': 559,\n",
              " 'coalition': 560,\n",
              " 'students': 561,\n",
              " 'getting': 562,\n",
              " 'texas': 563,\n",
              " 'live': 564,\n",
              " 'name': 565,\n",
              " 'britain': 566,\n",
              " 'rules': 567,\n",
              " 'center': 568,\n",
              " 'young': 569,\n",
              " 'congressional': 570,\n",
              " 'votes': 571,\n",
              " 'israel': 572,\n",
              " 'economy': 573,\n",
              " 'coming': 574,\n",
              " 'effort': 575,\n",
              " 'll': 576,\n",
              " 'elections': 577,\n",
              " 'calls': 578,\n",
              " 'candidates': 579,\n",
              " 'muslims': 580,\n",
              " 'emails': 581,\n",
              " 'announced': 582,\n",
              " 'weapons': 583,\n",
              " 'army': 584,\n",
              " 'global': 585,\n",
              " 'paul': 586,\n",
              " 'thousands': 587,\n",
              " 'ties': 588,\n",
              " 'line': 589,\n",
              " 'healthcare': 590,\n",
              " 'citizens': 591,\n",
              " 'event': 592,\n",
              " 'running': 593,\n",
              " 'chairman': 594,\n",
              " 'nearly': 595,\n",
              " 'sent': 596,\n",
              " 'climate': 597,\n",
              " 'talk': 598,\n",
              " '8': 599,\n",
              " 'obamacare': 600,\n",
              " 'racist': 601,\n",
              " 'fake': 602,\n",
              " 'claims': 603,\n",
              " 'street': 604,\n",
              " '2014': 605,\n",
              " 'allow': 606,\n",
              " 'rule': 607,\n",
              " 'daily': 608,\n",
              " 'capital': 609,\n",
              " 'poll': 610,\n",
              " 'position': 611,\n",
              " 'each': 612,\n",
              " 'workers': 613,\n",
              " 'december': 614,\n",
              " 'whose': 615,\n",
              " 'middle': 616,\n",
              " 'ruling': 617,\n",
              " 'led': 618,\n",
              " 'october': 619,\n",
              " 'hold': 620,\n",
              " 'wanted': 621,\n",
              " 'tell': 622,\n",
              " 'needs': 623,\n",
              " 'message': 624,\n",
              " 'latest': 625,\n",
              " 'outside': 626,\n",
              " 'april': 627,\n",
              " 'everyone': 628,\n",
              " 'late': 629,\n",
              " 'threat': 630,\n",
              " 'gave': 631,\n",
              " 'authorities': 632,\n",
              " 'east': 633,\n",
              " 'began': 634,\n",
              " 'liberal': 635,\n",
              " 'turkey': 636,\n",
              " 'problem': 637,\n",
              " 'florida': 638,\n",
              " 'showed': 639,\n",
              " 'makes': 640,\n",
              " 'bad': 641,\n",
              " 'reform': 642,\n",
              " 'politics': 643,\n",
              " 'officers': 644,\n",
              " '15': 645,\n",
              " 'leave': 646,\n",
              " 'rally': 647,\n",
              " 'immigrants': 648,\n",
              " 'bush': 649,\n",
              " 'september': 650,\n",
              " 'd': 651,\n",
              " 'criminal': 652,\n",
              " 'questions': 653,\n",
              " 'voting': 654,\n",
              " 'failed': 655,\n",
              " 'means': 656,\n",
              " 'organization': 657,\n",
              " 'august': 658,\n",
              " 'isn': 659,\n",
              " 'start': 660,\n",
              " 'representatives': 661,\n",
              " 'relations': 662,\n",
              " 'meet': 663,\n",
              " 'immediately': 664,\n",
              " 'reason': 665,\n",
              " 'peace': 666,\n",
              " 'lost': 667,\n",
              " 'list': 668,\n",
              " 'words': 669,\n",
              " 'parliament': 670,\n",
              " 'together': 671,\n",
              " 'cut': 672,\n",
              " 'release': 673,\n",
              " 'access': 674,\n",
              " 'speaking': 675,\n",
              " 'services': 676,\n",
              " 'policies': 677,\n",
              " 'hope': 678,\n",
              " 'stand': 679,\n",
              " 'germany': 680,\n",
              " 'funding': 681,\n",
              " 'february': 682,\n",
              " 'different': 683,\n",
              " 'rather': 684,\n",
              " 'central': 685,\n",
              " 'agencies': 686,\n",
              " 'conservatives': 687,\n",
              " 'george': 688,\n",
              " '2': 689,\n",
              " 'ahead': 690,\n",
              " 'spending': 691,\n",
              " 'based': 692,\n",
              " 'allies': 693,\n",
              " 'tried': 694,\n",
              " 'strong': 695,\n",
              " 'ministry': 696,\n",
              " 'read': 697,\n",
              " 'laws': 698,\n",
              " 'sexual': 699,\n",
              " 'planned': 700,\n",
              " 'almost': 701,\n",
              " 'try': 702,\n",
              " '2017': 703,\n",
              " 'millions': 704,\n",
              " 'cannot': 705,\n",
              " 'thought': 706,\n",
              " 'received': 707,\n",
              " 'oil': 708,\n",
              " 'six': 709,\n",
              " 'recently': 710,\n",
              " 'allowed': 711,\n",
              " 'morning': 712,\n",
              " '30': 713,\n",
              " 'host': 714,\n",
              " 'elected': 715,\n",
              " 'protect': 716,\n",
              " 'idea': 717,\n",
              " 'shows': 718,\n",
              " 'enforcement': 719,\n",
              " 'bring': 720,\n",
              " 'shooting': 721,\n",
              " 'charges': 722,\n",
              " 'decided': 723,\n",
              " 'missile': 724,\n",
              " 'old': 725,\n",
              " 'fire': 726,\n",
              " 'key': 727,\n",
              " 'room': 728,\n",
              " 'europe': 729,\n",
              " 'concerns': 730,\n",
              " 'provide': 731,\n",
              " 'parties': 732,\n",
              " 'chinese': 733,\n",
              " 'entire': 734,\n",
              " 'often': 735,\n",
              " 'talking': 736,\n",
              " 'met': 737,\n",
              " 'always': 738,\n",
              " 'near': 739,\n",
              " 'situation': 740,\n",
              " 'involved': 741,\n",
              " 'hate': 742,\n",
              " 'obamas': 743,\n",
              " 'energy': 744,\n",
              " 'happened': 745,\n",
              " 'officer': 746,\n",
              " 'district': 747,\n",
              " 'kind': 748,\n",
              " '3': 749,\n",
              " 'shot': 750,\n",
              " 'bank': 751,\n",
              " 'allegations': 752,\n",
              " 'denied': 753,\n",
              " 'tweet': 754,\n",
              " 'everything': 755,\n",
              " 'presidency': 756,\n",
              " 'california': 757,\n",
              " 'small': 758,\n",
              " 'movement': 759,\n",
              " 'james': 760,\n",
              " 'looking': 761,\n",
              " 'terrorist': 762,\n",
              " 'vice': 763,\n",
              " 'century': 764,\n",
              " 'travel': 765,\n",
              " 'needed': 766,\n",
              " 'arrested': 767,\n",
              " 'myanmar': 768,\n",
              " 'freedom': 769,\n",
              " 'especially': 770,\n",
              " 'agreed': 771,\n",
              " 'include': 772,\n",
              " 'side': 773,\n",
              " 'voted': 774,\n",
              " 'water': 775,\n",
              " 'return': 776,\n",
              " 'nomination': 777,\n",
              " 'bernie': 778,\n",
              " 'hours': 779,\n",
              " 'large': 780,\n",
              " 'protesters': 781,\n",
              " 'documents': 782,\n",
              " 'area': 783,\n",
              " 'industry': 784,\n",
              " 'data': 785,\n",
              " 'potential': 786,\n",
              " 'crime': 787,\n",
              " 'korean': 788,\n",
              " 'request': 789,\n",
              " 'british': 790,\n",
              " 'west': 791,\n",
              " '12': 792,\n",
              " 'themselves': 793,\n",
              " 'market': 794,\n",
              " 'seems': 795,\n",
              " 'although': 796,\n",
              " 'fired': 797,\n",
              " 'representative': 798,\n",
              " 'fighting': 799,\n",
              " 'personal': 800,\n",
              " 'county': 801,\n",
              " 'hearing': 802,\n",
              " 'claim': 803,\n",
              " 'polls': 804,\n",
              " 'adviser': 805,\n",
              " 'wife': 806,\n",
              " 'hit': 807,\n",
              " 'cases': 808,\n",
              " 'western': 809,\n",
              " '2012': 810,\n",
              " 'adding': 811,\n",
              " 'actions': 812,\n",
              " 'foundation': 813,\n",
              " 'either': 814,\n",
              " 'insurance': 815,\n",
              " 'confirmed': 816,\n",
              " 'worked': 817,\n",
              " 'interest': 818,\n",
              " 'true': 819,\n",
              " 'serious': 820,\n",
              " 'decades': 821,\n",
              " 'pressure': 822,\n",
              " 'wrong': 823,\n",
              " 'forward': 824,\n",
              " 'alleged': 825,\n",
              " 'building': 826,\n",
              " 'step': 827,\n",
              " '11': 828,\n",
              " 'front': 829,\n",
              " 'realdonaldtrump': 830,\n",
              " 'term': 831,\n",
              " 'commission': 832,\n",
              " 'address': 833,\n",
              " '5': 834,\n",
              " 'leading': 835,\n",
              " 'details': 836,\n",
              " 'j': 837,\n",
              " 'spoke': 838,\n",
              " 'claimed': 839,\n",
              " 'tillerson': 840,\n",
              " 'paid': 841,\n",
              " 'biggest': 842,\n",
              " 'probably': 843,\n",
              " 'nov': 844,\n",
              " 'lawyer': 845,\n",
              " 'love': 846,\n",
              " 'passed': 847,\n",
              " 'college': 848,\n",
              " 'continued': 849,\n",
              " 'clearly': 850,\n",
              " 'review': 851,\n",
              " '4': 852,\n",
              " 'feel': 853,\n",
              " 'board': 854,\n",
              " 'truth': 855,\n",
              " 'main': 856,\n",
              " 'families': 857,\n",
              " 'appeared': 858,\n",
              " 'final': 859,\n",
              " 'primary': 860,\n",
              " 'victory': 861,\n",
              " 'ted': 862,\n",
              " 'soon': 863,\n",
              " 'moscow': 864,\n",
              " 'leadership': 865,\n",
              " 'michael': 866,\n",
              " 'son': 867,\n",
              " 'mean': 868,\n",
              " 'protest': 869,\n",
              " 'father': 870,\n",
              " 'mike': 871,\n",
              " 'taxes': 872,\n",
              " 'turn': 873,\n",
              " 'terrorism': 874,\n",
              " 'network': 875,\n",
              " 'dont': 876,\n",
              " 'aid': 877,\n",
              " 'record': 878,\n",
              " 'brought': 879,\n",
              " 'dollars': 880,\n",
              " 'declined': 881,\n",
              " 'sessions': 882,\n",
              " 'result': 883,\n",
              " 'cia': 884,\n",
              " 'deputy': 885,\n",
              " 'wasn': 886,\n",
              " 'simply': 887,\n",
              " 'toward': 888,\n",
              " 'goes': 889,\n",
              " 'points': 890,\n",
              " 'turned': 891,\n",
              " 'remarks': 892,\n",
              " 'issued': 893,\n",
              " 'sign': 894,\n",
              " 'became': 895,\n",
              " 'independence': 896,\n",
              " 'started': 897,\n",
              " 'spent': 898,\n",
              " 'arabia': 899,\n",
              " 'protests': 900,\n",
              " 'pence': 901,\n",
              " 'flynn': 902,\n",
              " 'david': 903,\n",
              " 'posted': 904,\n",
              " 'included': 905,\n",
              " 'mayor': 906,\n",
              " 'agenda': 907,\n",
              " 'signed': 908,\n",
              " 'secret': 909,\n",
              " 'view': 910,\n",
              " 'isis': 911,\n",
              " 'influence': 912,\n",
              " 'religious': 913,\n",
              " 'attempt': 914,\n",
              " '25': 915,\n",
              " 'mccain': 916,\n",
              " 'article': 917,\n",
              " 'push': 918,\n",
              " 'town': 919,\n",
              " 'popular': 920,\n",
              " 'mark': 921,\n",
              " 'previously': 922,\n",
              " 'rubio': 923,\n",
              " 'forced': 924,\n",
              " 'german': 925,\n",
              " 'raised': 926,\n",
              " 'merkel': 927,\n",
              " 'below': 928,\n",
              " 'pass': 929,\n",
              " 'fund': 930,\n",
              " 'relationship': 931,\n",
              " 'guy': 932,\n",
              " 'pretty': 933,\n",
              " 'food': 934,\n",
              " 'child': 935,\n",
              " '2013': 936,\n",
              " 'level': 937,\n",
              " 'clintons': 938,\n",
              " 'giving': 939,\n",
              " 'seeking': 940,\n",
              " 'half': 941,\n",
              " 'al': 942,\n",
              " 'saw': 943,\n",
              " 'militants': 944,\n",
              " 'account': 945,\n",
              " 'website': 946,\n",
              " 'short': 947,\n",
              " 'convention': 948,\n",
              " 'gets': 949,\n",
              " 'speak': 950,\n",
              " 'cost': 951,\n",
              " 'conflict': 952,\n",
              " 'debt': 953,\n",
              " 'helped': 954,\n",
              " 'friends': 955,\n",
              " 'speaker': 956,\n",
              " 'proposed': 957,\n",
              " 'total': 958,\n",
              " 'increase': 959,\n",
              " 'firm': 960,\n",
              " 'hundreds': 961,\n",
              " 'voter': 962,\n",
              " 'ask': 963,\n",
              " 'ambassador': 964,\n",
              " 'reality': 965,\n",
              " 'armed': 966,\n",
              " 'wire': 967,\n",
              " 'described': 968,\n",
              " 'repeatedly': 969,\n",
              " 'longer': 970,\n",
              " 'remain': 971,\n",
              " 'phone': 972,\n",
              " 'created': 973,\n",
              " 'largest': 974,\n",
              " 'fear': 975,\n",
              " 'regional': 976,\n",
              " 'independent': 977,\n",
              " 'areas': 978,\n",
              " 'heard': 979,\n",
              " 'violent': 980,\n",
              " 'constitution': 981,\n",
              " 'discuss': 982,\n",
              " 'hand': 983,\n",
              " 'tv': 984,\n",
              " 'troops': 985,\n",
              " 'changes': 986,\n",
              " 'respond': 987,\n",
              " 'education': 988,\n",
              " 'currently': 989,\n",
              " 'criticized': 990,\n",
              " 'similar': 991,\n",
              " 'funds': 992,\n",
              " 'flag': 993,\n",
              " 'victims': 994,\n",
              " 'brexit': 995,\n",
              " 'build': 996,\n",
              " 'whole': 997,\n",
              " 'programs': 998,\n",
              " 'crowd': 999,\n",
              " 'carolina': 1000,\n",
              " ...}"
            ]
          },
          "execution_count": 71,
          "metadata": {},
          "output_type": "execute_result"
        }
      ],
      "source": [
        "tokenizer.word_index"
      ]
    },
    {
      "cell_type": "code",
      "execution_count": 154,
      "metadata": {
        "id": "obGWxQv9REeR"
      },
      "outputs": [],
      "source": [
        "# [len(x) for x in X]"
      ]
    },
    {
      "cell_type": "code",
      "execution_count": 73,
      "metadata": {
        "colab": {
          "base_uri": "https://localhost:8080/",
          "height": 435
        },
        "id": "gAuYB2NeROX_",
        "outputId": "5f0a19e9-9837-4f55-b494-7d6960319387"
      },
      "outputs": [
        {
          "data": {
            "image/png": "[encoded data removed]",
            "text/plain": [
              "<Figure size 640x480 with 1 Axes>"
            ]
          },
          "metadata": {},
          "output_type": "display_data"
        }
      ],
      "source": [
        "plt.hist([len(x) for x in X], bins = 700)\n",
        "plt.show()"
      ]
    },
    {
      "cell_type": "code",
      "execution_count": 74,
      "metadata": {
        "id": "HSnGKKyqRU1c"
      },
      "outputs": [],
      "source": [
        "# those means the number of word repeated have that index"
      ]
    },
    {
      "cell_type": "code",
      "execution_count": 76,
      "metadata": {
        "colab": {
          "base_uri": "https://localhost:8080/"
        },
        "id": "zeJkhPFQRgW8",
        "outputId": "f0c2e051-5029-4aa9-c953-632f527ef520"
      },
      "outputs": [
        {
          "data": {
            "text/plain": [
              "1584"
            ]
          },
          "execution_count": 76,
          "metadata": {},
          "output_type": "execute_result"
        }
      ],
      "source": [
        "nos = np.array([len(x) for x in X])\n",
        "len(nos[nos>1000])"
      ]
    },
    {
      "cell_type": "code",
      "execution_count": 77,
      "metadata": {
        "id": "tPRiYGRtRzDI"
      },
      "outputs": [],
      "source": [
        "maxlen = 1000 #max lenth of text\n",
        "X = pad_sequences(X, maxlen=maxlen)"
      ]
    },
    {
      "cell_type": "code",
      "execution_count": 78,
      "metadata": {
        "colab": {
          "base_uri": "https://localhost:8080/"
        },
        "id": "cjJQdzvTSBot",
        "outputId": "943f74c1-1531-491e-ceca-9a10cf028117"
      },
      "outputs": [
        {
          "data": {
            "text/plain": [
              "1000"
            ]
          },
          "execution_count": 78,
          "metadata": {},
          "output_type": "execute_result"
        }
      ],
      "source": [
        "len(X[103]) # length at any index will be 1000 only"
      ]
    },
    {
      "cell_type": "code",
      "execution_count": 79,
      "metadata": {
        "id": "niUUW-IgSJuo"
      },
      "outputs": [],
      "source": [
        "# in the news there will be the words which will be not there in the sequence the it will be treated as unknown and another sequence will me made for it"
      ]
    },
    {
      "cell_type": "code",
      "execution_count": 82,
      "metadata": {
        "id": "zKsB3B3DShlz"
      },
      "outputs": [],
      "source": [
        "vocab_size = len(tokenizer.word_index) + 1\n",
        "vocab = tokenizer.word_index"
      ]
    },
    {
      "cell_type": "code",
      "execution_count": 81,
      "metadata": {
        "id": "f4PYvtsWSpu5"
      },
      "outputs": [],
      "source": [
        "# in the model we have to feed the vector as the weight"
      ]
    },
    {
      "cell_type": "code",
      "execution_count": 83,
      "metadata": {
        "id": "bki-SjqJS1CP"
      },
      "outputs": [],
      "source": [
        "def get_weight_matrix(model):\n",
        "  weight_matrix = np.zeros((vocab_size, DIM)) # this would have be the tuple\n",
        "\n",
        "  for word, i in vocab.items():\n",
        "    weight_matrix[i] = model.wv[word]\n",
        "\n",
        "  return weight_matrix"
      ]
    },
    {
      "cell_type": "code",
      "execution_count": 84,
      "metadata": {
        "colab": {
          "base_uri": "https://localhost:8080/"
        },
        "id": "7Ninexl9T4Ds",
        "outputId": "7e974981-f110-4dad-e007-6a38593d10c9"
      },
      "outputs": [
        {
          "data": {
            "text/plain": [
              "array([[ 0.00000000e+00,  0.00000000e+00,  0.00000000e+00, ...,\n",
              "         0.00000000e+00,  0.00000000e+00,  0.00000000e+00],\n",
              "       [ 8.02031457e-01,  6.59761369e-01, -1.51162481e+00, ...,\n",
              "        -1.80055606e+00, -7.09993422e-01,  5.60894430e-01],\n",
              "       [ 1.04953074e+00, -3.49350810e-01,  6.34146929e-01, ...,\n",
              "         2.90447474e+00, -1.39665616e+00, -5.49115287e-03],\n",
              "       ...,\n",
              "       [-8.98306258e-03, -3.80772017e-02,  3.59434146e-03, ...,\n",
              "         3.39261722e-03,  1.58835277e-02, -1.98636372e-02],\n",
              "       [-2.16838904e-03, -6.13326160e-03,  2.62322277e-02, ...,\n",
              "         2.68871672e-02, -8.54433235e-03, -6.74092676e-03],\n",
              "       [ 8.70739762e-03,  7.57297641e-03, -1.07121421e-02, ...,\n",
              "        -1.77383833e-02,  2.65517458e-02, -1.67639693e-03]])"
            ]
          },
          "execution_count": 84,
          "metadata": {},
          "output_type": "execute_result"
        }
      ],
      "source": [
        "get_weight_matrix(w2v_model)"
      ]
    },
    {
      "cell_type": "code",
      "execution_count": 85,
      "metadata": {
        "id": "PsAp_uWVT7PD"
      },
      "outputs": [],
      "source": [
        "embedding_vectors = get_weight_matrix(w2v_model)"
      ]
    },
    {
      "cell_type": "code",
      "execution_count": 86,
      "metadata": {
        "colab": {
          "base_uri": "https://localhost:8080/"
        },
        "id": "VTg6-iieUFze",
        "outputId": "6cfef9d2-c65d-4b26-d44a-07e1d267ff36"
      },
      "outputs": [
        {
          "data": {
            "text/plain": [
              "(230761, 100)"
            ]
          },
          "execution_count": 86,
          "metadata": {},
          "output_type": "execute_result"
        }
      ],
      "source": [
        "embedding_vectors.shape"
      ]
    },
    {
      "cell_type": "code",
      "execution_count": 92,
      "metadata": {
        "id": "hQlXIVE5UJWW"
      },
      "outputs": [],
      "source": [
        "# creating the model\n",
        "\n",
        "model = Sequential()\n",
        "model.add(Embedding(vocab_size, output_dim = DIM, weights=[embedding_vectors], input_length=maxlen, trainable=False)) # trainable=false means the model don't gonna be retrain\n",
        "model.add(LSTM(units=128))\n",
        "model.add(Dense(1, activation='sigmoid'))\n",
        "model.compile(optimizer='adam', loss='binary_crossentropy', metrics=['acc'])"
      ]
    },
    {
      "cell_type": "code",
      "execution_count": 93,
      "metadata": {
        "colab": {
          "base_uri": "https://localhost:8080/",
          "height": 232
        },
        "id": "oHhonuEEU-Ss",
        "outputId": "bf0861a7-aa01-4123-80c4-f88ddab866be"
      },
      "outputs": [
        {
          "data": {
            "text/html": [
              "<pre style=\"white-space:pre;overflow-x:auto;line-height:normal;font-family:Menlo,'DejaVu Sans Mono',consolas,'Courier New',monospace\"><span style=\"font-weight: bold\">Model: \"sequential_2\"</span>\n",
              "</pre>\n"
            ],
            "text/plain": [
              "\u001b[1mModel: \"sequential_2\"\u001b[0m\n"
            ]
          },
          "metadata": {},
          "output_type": "display_data"
        },
        {
          "data": {
            "text/html": [
              "<pre style=\"white-space:pre;overflow-x:auto;line-height:normal;font-family:Menlo,'DejaVu Sans Mono',consolas,'Courier New',monospace\">┏━━━━━━━━━━━━━━━━━━━━━━━━━━━━━━━━━━━━━━┳━━━━━━━━━━━━━━━━━━━━━━━━━━━━━┳━━━━━━━━━━━━━━━━━┓\n",
              "┃<span style=\"font-weight: bold\"> Layer (type)                         </span>┃<span style=\"font-weight: bold\"> Output Shape                </span>┃<span style=\"font-weight: bold\">         Param # </span>┃\n",
              "┡━━━━━━━━━━━━━━━━━━━━━━━━━━━━━━━━━━━━━━╇━━━━━━━━━━━━━━━━━━━━━━━━━━━━━╇━━━━━━━━━━━━━━━━━┩\n",
              "│ embedding_2 (<span style=\"color: #0087ff; text-decoration-color: #0087ff\">Embedding</span>)              │ ?                           │      <span style=\"color: #00af00; text-decoration-color: #00af00\">23,076,100</span> │\n",
              "├──────────────────────────────────────┼─────────────────────────────┼─────────────────┤\n",
              "│ lstm_2 (<span style=\"color: #0087ff; text-decoration-color: #0087ff\">LSTM</span>)                        │ ?                           │     <span style=\"color: #00af00; text-decoration-color: #00af00\">0</span> (unbuilt) │\n",
              "├──────────────────────────────────────┼─────────────────────────────┼─────────────────┤\n",
              "│ dense_2 (<span style=\"color: #0087ff; text-decoration-color: #0087ff\">Dense</span>)                      │ ?                           │     <span style=\"color: #00af00; text-decoration-color: #00af00\">0</span> (unbuilt) │\n",
              "└──────────────────────────────────────┴─────────────────────────────┴─────────────────┘\n",
              "</pre>\n"
            ],
            "text/plain": [
              "┏━━━━━━━━━━━━━━━━━━━━━━━━━━━━━━━━━━━━━━┳━━━━━━━━━━━━━━━━━━━━━━━━━━━━━┳━━━━━━━━━━━━━━━━━┓\n",
              "┃\u001b[1m \u001b[0m\u001b[1mLayer (type)                        \u001b[0m\u001b[1m \u001b[0m┃\u001b[1m \u001b[0m\u001b[1mOutput Shape               \u001b[0m\u001b[1m \u001b[0m┃\u001b[1m \u001b[0m\u001b[1m        Param #\u001b[0m\u001b[1m \u001b[0m┃\n",
              "┡━━━━━━━━━━━━━━━━━━━━━━━━━━━━━━━━━━━━━━╇━━━━━━━━━━━━━━━━━━━━━━━━━━━━━╇━━━━━━━━━━━━━━━━━┩\n",
              "│ embedding_2 (\u001b[38;5;33mEmbedding\u001b[0m)              │ ?                           │      \u001b[38;5;34m23,076,100\u001b[0m │\n",
              "├──────────────────────────────────────┼─────────────────────────────┼─────────────────┤\n",
              "│ lstm_2 (\u001b[38;5;33mLSTM\u001b[0m)                        │ ?                           │     \u001b[38;5;34m0\u001b[0m (unbuilt) │\n",
              "├──────────────────────────────────────┼─────────────────────────────┼─────────────────┤\n",
              "│ dense_2 (\u001b[38;5;33mDense\u001b[0m)                      │ ?                           │     \u001b[38;5;34m0\u001b[0m (unbuilt) │\n",
              "└──────────────────────────────────────┴─────────────────────────────┴─────────────────┘\n"
            ]
          },
          "metadata": {},
          "output_type": "display_data"
        },
        {
          "data": {
            "text/html": [
              "<pre style=\"white-space:pre;overflow-x:auto;line-height:normal;font-family:Menlo,'DejaVu Sans Mono',consolas,'Courier New',monospace\"><span style=\"font-weight: bold\"> Total params: </span><span style=\"color: #00af00; text-decoration-color: #00af00\">23,076,100</span> (88.03 MB)\n",
              "</pre>\n"
            ],
            "text/plain": [
              "\u001b[1m Total params: \u001b[0m\u001b[38;5;34m23,076,100\u001b[0m (88.03 MB)\n"
            ]
          },
          "metadata": {},
          "output_type": "display_data"
        },
        {
          "data": {
            "text/html": [
              "<pre style=\"white-space:pre;overflow-x:auto;line-height:normal;font-family:Menlo,'DejaVu Sans Mono',consolas,'Courier New',monospace\"><span style=\"font-weight: bold\"> Trainable params: </span><span style=\"color: #00af00; text-decoration-color: #00af00\">0</span> (0.00 B)\n",
              "</pre>\n"
            ],
            "text/plain": [
              "\u001b[1m Trainable params: \u001b[0m\u001b[38;5;34m0\u001b[0m (0.00 B)\n"
            ]
          },
          "metadata": {},
          "output_type": "display_data"
        },
        {
          "data": {
            "text/html": [
              "<pre style=\"white-space:pre;overflow-x:auto;line-height:normal;font-family:Menlo,'DejaVu Sans Mono',consolas,'Courier New',monospace\"><span style=\"font-weight: bold\"> Non-trainable params: </span><span style=\"color: #00af00; text-decoration-color: #00af00\">23,076,100</span> (88.03 MB)\n",
              "</pre>\n"
            ],
            "text/plain": [
              "\u001b[1m Non-trainable params: \u001b[0m\u001b[38;5;34m23,076,100\u001b[0m (88.03 MB)\n"
            ]
          },
          "metadata": {},
          "output_type": "display_data"
        }
      ],
      "source": [
        "model.summary()"
      ]
    },
    {
      "cell_type": "code",
      "execution_count": 94,
      "metadata": {
        "id": "5udJnD05VF4Y"
      },
      "outputs": [],
      "source": [
        "X_train, X_test, y_train, y_test = train_test_split(X, y, test_size=0.2, random_state=42)"
      ]
    },
    {
      "cell_type": "code",
      "execution_count": 96,
      "metadata": {
        "colab": {
          "base_uri": "https://localhost:8080/"
        },
        "id": "0Sr9BglOXmsk",
        "outputId": "85a98595-c0c7-4966-ac17-2953c6ca6e1d"
      },
      "outputs": [
        {
          "name": "stdout",
          "output_type": "stream",
          "text": [
            "Epoch 1/6\n",
            "\u001b[1m786/786\u001b[0m \u001b[32m━━━━━━━━━━━━━━━━━━━━\u001b[0m\u001b[37m\u001b[0m \u001b[1m47s\u001b[0m 53ms/step - acc: 0.9251 - loss: 0.1936 - val_acc: 0.9762 - val_loss: 0.0685\n",
            "Epoch 2/6\n",
            "\u001b[1m786/786\u001b[0m \u001b[32m━━━━━━━━━━━━━━━━━━━━\u001b[0m\u001b[37m\u001b[0m \u001b[1m74s\u001b[0m 46ms/step - acc: 0.9767 - loss: 0.0685 - val_acc: 0.9805 - val_loss: 0.0506\n",
            "Epoch 3/6\n",
            "\u001b[1m786/786\u001b[0m \u001b[32m━━━━━━━━━━━━━━━━━━━━\u001b[0m\u001b[37m\u001b[0m \u001b[1m30s\u001b[0m 38ms/step - acc: 0.9871 - loss: 0.0405 - val_acc: 0.9867 - val_loss: 0.0402\n",
            "Epoch 4/6\n",
            "\u001b[1m786/786\u001b[0m \u001b[32m━━━━━━━━━━━━━━━━━━━━\u001b[0m\u001b[37m\u001b[0m \u001b[1m31s\u001b[0m 40ms/step - acc: 0.9901 - loss: 0.0282 - val_acc: 0.9906 - val_loss: 0.0291\n",
            "Epoch 5/6\n",
            "\u001b[1m786/786\u001b[0m \u001b[32m━━━━━━━━━━━━━━━━━━━━\u001b[0m\u001b[37m\u001b[0m \u001b[1m40s\u001b[0m 39ms/step - acc: 0.9938 - loss: 0.0175 - val_acc: 0.9913 - val_loss: 0.0265\n",
            "Epoch 6/6\n",
            "\u001b[1m786/786\u001b[0m \u001b[32m━━━━━━━━━━━━━━━━━━━━\u001b[0m\u001b[37m\u001b[0m \u001b[1m41s\u001b[0m 39ms/step - acc: 0.9966 - loss: 0.0100 - val_acc: 0.9945 - val_loss: 0.0202\n"
          ]
        },
        {
          "data": {
            "text/plain": [
              "<keras.src.callbacks.history.History at 0x7d621d58b150>"
            ]
          },
          "execution_count": 96,
          "metadata": {},
          "output_type": "execute_result"
        }
      ],
      "source": [
        "model.fit(X_train, y_train, validation_split= 0.3, epochs=6)"
      ]
    },
    {
      "cell_type": "code",
      "execution_count": 97,
      "metadata": {
        "colab": {
          "base_uri": "https://localhost:8080/"
        },
        "id": "oozxoJ95XxAs",
        "outputId": "1a348929-7cbb-4f6c-b7a6-9b6232904773"
      },
      "outputs": [
        {
          "name": "stdout",
          "output_type": "stream",
          "text": [
            "\u001b[1m281/281\u001b[0m \u001b[32m━━━━━━━━━━━━━━━━━━━━\u001b[0m\u001b[37m\u001b[0m \u001b[1m7s\u001b[0m 25ms/step\n"
          ]
        }
      ],
      "source": [
        "y_pred = (model.predict(X_test) >= 0.5).astype(int)"
      ]
    },
    {
      "cell_type": "code",
      "execution_count": 99,
      "metadata": {
        "colab": {
          "base_uri": "https://localhost:8080/"
        },
        "id": "Epq8Y_aHZPWj",
        "outputId": "dd4309fb-4d47-4d1b-8c11-a145d1eba046"
      },
      "outputs": [
        {
          "data": {
            "text/plain": [
              "0.9933184855233853"
            ]
          },
          "execution_count": 99,
          "metadata": {},
          "output_type": "execute_result"
        }
      ],
      "source": [
        "accuracy_score(y_test, y_pred)"
      ]
    },
    {
      "cell_type": "code",
      "execution_count": 100,
      "metadata": {
        "colab": {
          "base_uri": "https://localhost:8080/"
        },
        "id": "LbpjvuGBZTHe",
        "outputId": "94fda76e-d3e3-484d-8fec-70f7dac985e7"
      },
      "outputs": [
        {
          "name": "stdout",
          "output_type": "stream",
          "text": [
            "              precision    recall  f1-score   support\n",
            "\n",
            "           0       1.00      0.99      0.99      4644\n",
            "           1       0.99      0.99      0.99      4336\n",
            "\n",
            "    accuracy                           0.99      8980\n",
            "   macro avg       0.99      0.99      0.99      8980\n",
            "weighted avg       0.99      0.99      0.99      8980\n",
            "\n"
          ]
        }
      ],
      "source": [
        "print(classification_report(y_test, y_pred))"
      ]
    },
    {
      "cell_type": "code",
      "execution_count": 150,
      "metadata": {
        "id": "VaLNDbPDZ37a"
      },
      "outputs": [],
      "source": [
        "# enter the news here ...\n",
        "x = [\"The media has been talking all day about Trump and the Republican Party s scam of a tax bill; as well as the sheer obsequiousness of Trump s cabinet, and then members of Congress, after their tax scam was all but passed. But the media isn t quite saying what Trump wants. They ve been doing analysis and discussion all day long rather than praising it for the grand achievement Trump believes it is. The GOP has increasingly sounded exactly like Trump when it comes to media coverage, and coverage of the tax scam is no different. Coverage of Trump in general hasn t changed.Today, Lindsey Graham went after the media for portraying Trump as a  kook,  and unfit for office (they wouldn t be doing their job if they weren t telling the truth, though). Graham said: You know what concerns me about the American press is this endless, endless attempt to label the guy as some kind of kook; not fit to be president. Jake Tapper notes that he himself has never labeled Trump that way. But then he points out something rather odd about Graham s opinion. Take a look at the short video clip below:Lindsey Graham today: I m concerned by the media s attempt to label Trump as a kook or not fit to be President.Lindsey Graham in 2016:  I think he s a kook. I think he s crazy. I think he s unfit for office.  pic.twitter.com/hIxs3DciO8  Tomthunkit  (@TomthunkitsMind) December 17, 2017There it is, out of Graham s own mouth. He parroted himself. In 2016, he used the exact words to describe Trump that he said the media is using today. Freudian slip?Featured image via video screen capture\"]\n",
        "x = tokenizer.texts_to_sequences(x)\n",
        "x = pad_sequences(x, maxlen=maxlen)"
      ]
    },
    {
      "cell_type": "code",
      "execution_count": 151,
      "metadata": {
        "colab": {
          "base_uri": "https://localhost:8080/"
        },
        "id": "oAakNMI-aEuX",
        "outputId": "115a10f3-08e2-431b-e63e-3533b5e7b5ca"
      },
      "outputs": [
        {
          "name": "stdout",
          "output_type": "stream",
          "text": [
            "\u001b[1m1/1\u001b[0m \u001b[32m━━━━━━━━━━━━━━━━━━━━\u001b[0m\u001b[37m\u001b[0m \u001b[1m0s\u001b[0m 62ms/step\n",
            "Prediction Score: [[3.5296603e-07]]\n",
            "\u001b[1m1/1\u001b[0m \u001b[32m━━━━━━━━━━━━━━━━━━━━\u001b[0m\u001b[37m\u001b[0m \u001b[1m0s\u001b[0m 56ms/step\n",
            "Class: Fake\n"
          ]
        }
      ],
      "source": [
        "# (model.predict(x) >= 0.5).astype(int)\n",
        "print(\"Prediction Score:\", model.predict(x))\n",
        "print(\"Class:\", \"Real\" if model.predict(x) > 0.8 else \"Fake\")"
      ]
    },
    {
      "cell_type": "code",
      "execution_count": null,
      "metadata": {
        "id": "aXwA1ZsKat70"
      },
      "outputs": [],
      "source": []
    }
  ],
  "metadata": {
    "accelerator": "GPU",
    "colab": {
      "gpuType": "T4",
      "provenance": []
    },
    "kernelspec": {
      "display_name": "Python 3",
      "name": "python3"
    },
    "language_info": {
      "name": "python"
    }
  },
  "nbformat": 4,
  "nbformat_minor": 0
}
